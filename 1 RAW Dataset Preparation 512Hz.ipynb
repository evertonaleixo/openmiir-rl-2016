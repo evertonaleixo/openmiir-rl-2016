{
 "cells": [
  {
   "cell_type": "code",
   "execution_count": 1,
   "metadata": {
    "collapsed": false
   },
   "outputs": [],
   "source": [
    "import numpy as np\n",
    "import deepthought, mne, os\n",
    "\n",
    "mne.set_log_level('WARNING')\n",
    "# mne.set_log_level('INFO')\n",
    "verbose = False\n",
    "\n",
    "from openmiir.constants import STIMULUS_IDS\n",
    "from openmiir.metadata import load_stimuli_metadata, get_stimuli_version\n",
    "from openmiir.events import get_event_id\n",
    "from deepthought.util.fs_util import save\n",
    "\n",
    "sfreq = 512 # no down-sampling\n",
    "\n",
    "# select data to be extracted\n",
    "# subjects = ['P01','P04','P05','P06','P07','P09','P11','P12','P13','P14']\n",
    "subjects = ['P01','P04','P06','P07','P09','P11','P12','P13','P14']\n",
    "# subjects = ['P01']\n",
    "conditions = [1]\n",
    "# conditions = [2]\n",
    "stimuli = STIMULUS_IDS\n",
    "\n",
    "include_cue = False\n",
    "use_mastoid_reference = False\n",
    "\n",
    "data_root = '/srv/mlcog/datasets/OpenMIIR/'\n",
    "mne_data_root = os.path.join(data_root, 'eeg', 'mne')\n",
    "ica_data_root = os.path.join(data_root, 'eeg', 'preprocessing', 'ica')\n",
    "# envelope_data_root = os.path.join(deepthought.DATA_PATH, 'mpi2015')\n",
    "target_path = 'data/OpenMIIR-Perception-512Hz.pklz'"
   ]
  },
  {
   "cell_type": "code",
   "execution_count": 2,
   "metadata": {
    "collapsed": true
   },
   "outputs": [],
   "source": [
    "cache = dict()"
   ]
  },
  {
   "cell_type": "code",
   "execution_count": 3,
   "metadata": {
    "collapsed": false,
    "scrolled": false
   },
   "outputs": [
    {
     "name": "stdout",
     "output_type": "stream",
     "text": [
      "P01\n",
      "An average reference projection was already added. The data has been left untouched.\n"
     ]
    },
    {
     "name": "stderr",
     "output_type": "stream",
     "text": [
      "openmiir/preprocessing/pipeline.py:88: RuntimeWarning: An average reference projection was already added. The data has been left untouched.\n",
      "  mne.io.set_eeg_reference(raw, copy=False)\n"
     ]
    },
    {
     "name": "stdout",
     "output_type": "stream",
     "text": [
      "Multiple deprecated filter parameters were used:\n",
      "phase in 0.13 is \"zero-double\" but will change to \"zero\" in 0.14\n",
      "fir_window in 0.13 is \"hann\" but will change to \"hamming\" in 0.14\n",
      "P04\n",
      "An average reference projection was already added. The data has been left untouched.\n",
      "Multiple deprecated filter parameters were used:\n",
      "phase in 0.13 is \"zero-double\" but will change to \"zero\" in 0.14\n",
      "fir_window in 0.13 is \"hann\" but will change to \"hamming\" in 0.14\n",
      "P06\n",
      "An average reference projection was already added. The data has been left untouched.\n",
      "Multiple deprecated filter parameters were used:\n",
      "phase in 0.13 is \"zero-double\" but will change to \"zero\" in 0.14\n",
      "fir_window in 0.13 is \"hann\" but will change to \"hamming\" in 0.14\n",
      "P07\n",
      "An average reference projection was already added. The data has been left untouched.\n",
      "Multiple deprecated filter parameters were used:\n",
      "phase in 0.13 is \"zero-double\" but will change to \"zero\" in 0.14\n",
      "fir_window in 0.13 is \"hann\" but will change to \"hamming\" in 0.14\n",
      "P09\n",
      "Multiple deprecated filter parameters were used:\n",
      "phase in 0.13 is \"zero-double\" but will change to \"zero\" in 0.14\n",
      "fir_window in 0.13 is \"hann\" but will change to \"hamming\" in 0.14\n",
      "P11\n",
      "Multiple deprecated filter parameters were used:\n",
      "phase in 0.13 is \"zero-double\" but will change to \"zero\" in 0.14\n",
      "fir_window in 0.13 is \"hann\" but will change to \"hamming\" in 0.14\n",
      "P12\n",
      "Multiple deprecated filter parameters were used:\n",
      "phase in 0.13 is \"zero-double\" but will change to \"zero\" in 0.14\n",
      "fir_window in 0.13 is \"hann\" but will change to \"hamming\" in 0.14\n",
      "P13\n",
      "Multiple deprecated filter parameters were used:\n",
      "phase in 0.13 is \"zero-double\" but will change to \"zero\" in 0.14\n",
      "fir_window in 0.13 is \"hann\" but will change to \"hamming\" in 0.14\n",
      "P14\n",
      "Multiple deprecated filter parameters were used:\n",
      "phase in 0.13 is \"zero-double\" but will change to \"zero\" in 0.14\n",
      "fir_window in 0.13 is \"hann\" but will change to \"hamming\" in 0.14\n"
     ]
    }
   ],
   "source": [
    "from openmiir.preprocessing import load_and_preprocess_raw\n",
    "from openmiir.preprocessing.pipeline import load_raw_info\n",
    "\n",
    "for subject in subjects:\n",
    "    print subject\n",
    "    if subject in cache: continue\n",
    "    \n",
    "    info = load_raw_info(subject, mne_data_root=mne_data_root) # need to keep info with bad channels for later\n",
    "\n",
    "    raw, trial_events = load_and_preprocess_raw(subject, \n",
    "                                            mne_data_root=mne_data_root,\n",
    "                                            ica_data_root=ica_data_root,\n",
    "                                            onsets='audio',\n",
    "                                            interpolate_bad_channels=True, \n",
    "                                            reference_mastoids=use_mastoid_reference,\n",
    "                                            l_freq=0.5,\n",
    "                                            h_freq=30,\n",
    "                                            sfreq=sfreq,\n",
    "                                            ica_cleaning=True,\n",
    "#                                             l_freq2=None,\n",
    "#                                             h_freq2=8,    # extra alpha filter\n",
    "                                            verbose=None,\n",
    "                                            n_jobs=4)\n",
    "    cache[subject] = raw, trial_events, info"
   ]
  },
  {
   "cell_type": "code",
   "execution_count": 5,
   "metadata": {
    "collapsed": false,
    "scrolled": true
   },
   "outputs": [
    {
     "name": "stdout",
     "output_type": "stream",
     "text": [
      "P01 1 []\n",
      "P04 1 []\n",
      "P06 1 []\n",
      "P07 1 []\n",
      "P09 2 []\n",
      "P11 2 []\n",
      "P12 2 []\n",
      "P13 2 []\n",
      "P14 2 []\n",
      "saving dataset to data/OpenMIIR-Perception-512Hz.pklz\n",
      "540 540\n"
     ]
    }
   ],
   "source": [
    "trials = []\n",
    "metadata = []\n",
    "for subject in subjects:    \n",
    "    # load metadata\n",
    "    meta_version = get_stimuli_version(subject)\n",
    "    meta = load_stimuli_metadata(data_root, meta_version)\n",
    "    print subject, meta_version, raw.info['bads']\n",
    "    \n",
    "    raw, trial_events, info = cache[subject]\n",
    "    for stim_id in stimuli:\n",
    "        if include_cue:\n",
    "            trial_len = meta[stim_id]['length_with_cue']\n",
    "        else:\n",
    "            trial_len = meta[stim_id]['length_without_cue']\n",
    "\n",
    "        for cond in conditions:\n",
    "            event_id = get_event_id(stim_id, cond)\n",
    "            \n",
    "            # select EEG channels\n",
    "            eeg_picks = mne.pick_types(raw.info, meg=False, eeg=True, eog=False, stim=False, exclude=[])\n",
    "\n",
    "            epochs = mne.Epochs(raw, events=trial_events, event_id=event_id, \n",
    "                    tmin=0, tmax=trial_len, \n",
    "                    proj=False, picks=eeg_picks, preload=True, verbose=False)\n",
    "            \n",
    "            \n",
    "            # TEMPORARY FIX for update from mne-python 0.9 to 0.10\n",
    "            # interpolate bad channels again as ICA will not be applied on them\n",
    "            epochs.info['bads'] = info['bads'] # set bad channel flags for interpolation\n",
    "            epochs.interpolate_bads()\n",
    "\n",
    "            for i, trial in enumerate(epochs.get_data()):                                \n",
    "\n",
    "                trials.append(np.asarray(trial, dtype=np.float32))\n",
    "#                 targets.append(target[:trial_len])\n",
    "\n",
    "                trial_meta = dict()\n",
    "                trial_meta['subject'] = subject\n",
    "                if cond == 1:\n",
    "                    trial_meta['trial_type'] = 'perception'\n",
    "                else:\n",
    "                    trial_meta['trial_type'] = 'imagination'\n",
    "                trial_meta['trial_no'] = i\n",
    "                trial_meta['condition'] = cond\n",
    "                trial_meta['stimulus_id'] = stim_id\n",
    "\n",
    "#                 print trial_meta\n",
    "                metadata.append(trial_meta)                \n",
    "\n",
    "target_path = 'data/OpenMIIR-Perception-512Hz.pklz'\n",
    "print 'saving dataset to', target_path\n",
    "print len(trials), len(metadata)\n",
    "save(target_path, (trials, metadata), mkdirs=True)"
   ]
  },
  {
   "cell_type": "code",
   "execution_count": 6,
   "metadata": {
    "collapsed": false
   },
   "outputs": [
    {
     "name": "stdout",
     "output_type": "stream",
     "text": [
      "3519 8201\n"
     ]
    }
   ],
   "source": [
    "min_len, max_len = 10000, 0\n",
    "for trial in trials:\n",
    "    min_len = min(min_len, trial.shape[-1])\n",
    "    max_len = max(max_len, trial.shape[-1])\n",
    "print min_len, max_len"
   ]
  },
  {
   "cell_type": "code",
   "execution_count": null,
   "metadata": {
    "collapsed": true
   },
   "outputs": [],
   "source": []
  }
 ],
 "metadata": {
  "kernelspec": {
   "display_name": "Python 2",
   "language": "python",
   "name": "python2"
  },
  "language_info": {
   "codemirror_mode": {
    "name": "ipython",
    "version": 2
   },
   "file_extension": ".py",
   "mimetype": "text/x-python",
   "name": "python",
   "nbconvert_exporter": "python",
   "pygments_lexer": "ipython2",
   "version": "2.7.6"
  }
 },
 "nbformat": 4,
 "nbformat_minor": 0
}
