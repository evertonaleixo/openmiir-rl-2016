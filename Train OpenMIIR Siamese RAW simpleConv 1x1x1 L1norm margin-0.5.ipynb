{
 "cells": [
  {
   "cell_type": "code",
   "execution_count": 1,
   "metadata": {
    "collapsed": true
   },
   "outputs": [],
   "source": [
    "job_id = 'raw_openmiir_siamese_simpleconv_L1norm_margin-0.5'"
   ]
  },
  {
   "cell_type": "code",
   "execution_count": 2,
   "metadata": {
    "collapsed": false
   },
   "outputs": [
    {
     "name": "stderr",
     "output_type": "stream",
     "text": [
      "Using gpu device 0: GeForce GTX TITAN X (CNMeM is disabled, cuDNN 5105)\n"
     ]
    },
    {
     "name": "stdout",
     "output_type": "stream",
     "text": [
      "blocks default_seed: {'default': 1, 'type': <type 'int'>, 'value': 42}\n",
      "batch_size = 1000\n",
      "blocks_extensions_bokeh = False\n",
      "blocks_extensions_bokeh_channels = [['cost_train', 'cost_valid'], ['total_gradient_norm_train']]\n",
      "blocks_extensions_bokeh_plot_title = raw_openmiir_siamese_simpleconv_L1norm_margin-0.5\n",
      "blocks_extensions_printing = False\n",
      "blocks_extensions_progressbar = True\n",
      "blocks_extensions_train_monitoring_channels = []\n",
      "blocks_extensions_valid_monitoring_channels = []\n",
      "classification_target_source = targets\n",
      "classifier_batch_size = 120\n",
      "classifier_l1wdecay = 0.0\n",
      "classifier_max_epochs = 100\n",
      "classifier_pool_stride = 1\n",
      "classifier_pool_width = 1\n",
      "filter_width_freq = 1\n",
      "filter_width_time = 1\n",
      "group_attribute = within_subject_tuples_group\n",
      "l1wdecay = 0\n",
      "learning_rate = 0.01\n",
      "max_epochs = 10\n",
      "num_components = 1\n",
      "only_1_inner_fold = False\n",
      "pool_stride_freq = 1\n",
      "pool_stride_time = 1\n",
      "pool_width_freq = 1\n",
      "pool_width_time = 1\n",
      "pretrain_target_source = targets\n",
      "siamese_distance = L1-norm\n",
      "siamese_margin = -0.5\n",
      "step_rule = Adam\n",
      "use_bias = False\n",
      "use_ext_dataset_for_validation = True\n"
     ]
    }
   ],
   "source": [
    "import os\n",
    "os.environ[\"THEANO_FLAGS\"] = \"floatX=float32,device=gpu\"\n",
    "\n",
    "from common_settings import *\n",
    "hyper_params['blocks_extensions_bokeh_plot_title'] = job_id\n",
    "hyper_params['siamese_margin'] = -0.5\n",
    "hyper_params['siamese_distance'] = 'L1-norm'\n",
    "\n",
    "print_hyper_params()"
   ]
  },
  {
   "cell_type": "code",
   "execution_count": 4,
   "metadata": {
    "collapsed": false
   },
   "outputs": [],
   "source": [
    "from deepthought.experiments.encoding.datasets.openmiir import OpenMIIRNestedCVFoldGenerator\n",
    "from deepthought.experiments.encoding.experiment_templates.siamese_encoder import SiameseEncoderExperiment\n",
    "from deepthought.experiments.encoding.pipelines.single_conv_filter import SingleConvFilterPipelineFactory\n",
    "from deepthought.experiments.encoding.classifiers.linear_svc import train_linear_svc, train_linear_svc_NOTUNING\n",
    "from deepthought.experiments.encoding.classifiers.simple_nn import train_simple_nn_cv"
   ]
  },
  {
   "cell_type": "code",
   "execution_count": 5,
   "metadata": {
    "collapsed": false,
    "scrolled": true
   },
   "outputs": [
    {
     "name": "stdout",
     "output_type": "stream",
     "text": [
      "running job #raw_openmiir_siamese_simpleconv_L1norm_margin-0.5\n",
      "output path:  results/raw_openmiir_siamese_simpleconv_L1norm_margin-0.5\n"
     ]
    },
    {
     "name": "stderr",
     "output_type": "stream",
     "text": [
      "INFO:deepthought.experiments:processing fold 0.0: {'train': [1, 2, 3, 4], 'valid': [0]}\n"
     ]
    },
    {
     "name": "stdout",
     "output_type": "stream",
     "text": [
      "processing outer fold {'train': ['P04', 'P06', 'P07', 'P09', 'P11', 'P12', 'P13', 'P14'], 'valid': ['P01']}\n",
      "#train: 18048 #valid: 5664\n"
     ]
    },
    {
     "name": "stderr",
     "output_type": "stream",
     "text": [
      "Epoch 0, step 19 |                                       | Elapsed Time: 0:00:01\n",
      "Epoch 1, step 19 |                                       | Elapsed Time: 0:00:01\n",
      "Epoch 2, step 19 |                                       | Elapsed Time: 0:00:01\n",
      "Epoch 3, step 19 |                                       | Elapsed Time: 0:00:01\n",
      "Epoch 4, step 19 |                                       | Elapsed Time: 0:00:01\n",
      "Epoch 5, step 19 |                                       | Elapsed Time: 0:00:01\n",
      "Epoch 6, step 19 |                                       | Elapsed Time: 0:00:01\n",
      "Epoch 7, step 19 |                                       | Elapsed Time: 0:00:01\n",
      "Epoch 8, step 19 |                                       | Elapsed Time: 0:00:01\n",
      "Epoch 9, step 19 |                                       | Elapsed Time: 0:00:01\n",
      "INFO:deepthought.experiments:processing fold 0.1: {'train': [0, 2, 3, 4], 'valid': [1]}\n"
     ]
    },
    {
     "name": "stdout",
     "output_type": "stream",
     "text": [
      "#train: 18048 #valid: 5664\n"
     ]
    },
    {
     "name": "stderr",
     "output_type": "stream",
     "text": [
      "Epoch 0, step 19 |                                       | Elapsed Time: 0:00:01\n",
      "Epoch 1, step 19 |                                       | Elapsed Time: 0:00:01\n",
      "Epoch 2, step 19 |                                       | Elapsed Time: 0:00:01\n",
      "Epoch 3, step 19 |                                       | Elapsed Time: 0:00:01\n",
      "Epoch 4, step 19 |                                       | Elapsed Time: 0:00:01\n",
      "Epoch 5, step 19 |                                       | Elapsed Time: 0:00:01\n",
      "Epoch 6, step 19 |                                       | Elapsed Time: 0:00:01\n",
      "Epoch 7, step 19 |                                       | Elapsed Time: 0:00:01\n",
      "Epoch 8, step 19 |                                       | Elapsed Time: 0:00:01\n",
      "Epoch 9, step 19 |                                       | Elapsed Time: 0:00:01\n",
      "INFO:deepthought.experiments:processing fold 0.2: {'train': [0, 1, 3, 4], 'valid': [2]}\n"
     ]
    },
    {
     "name": "stdout",
     "output_type": "stream",
     "text": [
      "#train: 18048 #valid: 5664\n"
     ]
    },
    {
     "name": "stderr",
     "output_type": "stream",
     "text": [
      "Epoch 0, step 19 |                                       | Elapsed Time: 0:00:01\n",
      "Epoch 1, step 19 |                                       | Elapsed Time: 0:00:01\n",
      "Epoch 2, step 19 |                                       | Elapsed Time: 0:00:01\n",
      "Epoch 3, step 19 |                                       | Elapsed Time: 0:00:01\n",
      "Epoch 4, step 19 |                                       | Elapsed Time: 0:00:01\n",
      "Epoch 5, step 19 |                                       | Elapsed Time: 0:00:01\n",
      "Epoch 6, step 19 |                                       | Elapsed Time: 0:00:01\n",
      "Epoch 7, step 19 |                                       | Elapsed Time: 0:00:01\n",
      "Epoch 8, step 19 |                                       | Elapsed Time: 0:00:01\n",
      "Epoch 9, step 19 |                                       | Elapsed Time: 0:00:01\n",
      "INFO:deepthought.experiments:processing fold 0.3: {'train': [0, 1, 2, 4], 'valid': [3]}\n"
     ]
    },
    {
     "name": "stdout",
     "output_type": "stream",
     "text": [
      "#train: 18048 #valid: 5664\n"
     ]
    },
    {
     "name": "stderr",
     "output_type": "stream",
     "text": [
      "Epoch 0, step 19 |                                       | Elapsed Time: 0:00:01\n",
      "Epoch 1, step 19 |                                       | Elapsed Time: 0:00:01\n",
      "Epoch 2, step 19 |                                       | Elapsed Time: 0:00:01\n",
      "Epoch 3, step 19 |                                       | Elapsed Time: 0:00:01\n",
      "Epoch 4, step 19 |                                       | Elapsed Time: 0:00:01\n",
      "Epoch 5, step 19 |                                       | Elapsed Time: 0:00:01\n",
      "Epoch 6, step 19 |                                       | Elapsed Time: 0:00:01\n",
      "Epoch 7, step 19 |                                       | Elapsed Time: 0:00:01\n",
      "Epoch 8, step 19 |                                       | Elapsed Time: 0:00:01\n",
      "Epoch 9, step 19 |                                       | Elapsed Time: 0:00:01\n",
      "INFO:deepthought.experiments:processing fold 0.4: {'train': [0, 1, 2, 3], 'valid': [4]}\n"
     ]
    },
    {
     "name": "stdout",
     "output_type": "stream",
     "text": [
      "#train: 18048 #valid: 5664\n"
     ]
    },
    {
     "name": "stderr",
     "output_type": "stream",
     "text": [
      "Epoch 0, step 19 |                                       | Elapsed Time: 0:00:01\n",
      "Epoch 1, step 19 |                                       | Elapsed Time: 0:00:01\n",
      "Epoch 2, step 19 |                                       | Elapsed Time: 0:00:01\n",
      "Epoch 3, step 19 |                                       | Elapsed Time: 0:00:01\n",
      "Epoch 4, step 19 |                                       | Elapsed Time: 0:00:01\n",
      "Epoch 5, step 19 |                                       | Elapsed Time: 0:00:01\n",
      "Epoch 6, step 19 |                                       | Elapsed Time: 0:00:01\n",
      "Epoch 7, step 19 |                                       | Elapsed Time: 0:00:01\n",
      "Epoch 8, step 19 |                                       | Elapsed Time: 0:00:01\n",
      "Epoch 9, step 19 |                                       | Elapsed Time: 0:00:01\n"
     ]
    },
    {
     "name": "stdout",
     "output_type": "stream",
     "text": [
      "fold errors: [ 18.1102   3.5437  16.2698   4.214   12.3608]\n",
      "fold_scores for c=0.0100: [ 0.1771  0.125   0.1354  0.0938  0.1875] mean=0.1437\n",
      "fold_scores for c=0.0500: [ 0.1771  0.125   0.1354  0.0938  0.1875] mean=0.1437\n",
      "fold_scores for c=0.1000: [ 0.1771  0.125   0.1354  0.0938  0.1875] mean=0.1437\n",
      "fold_scores for c=0.0050: [ 0.1771  0.125   0.1354  0.0938  0.1875] mean=0.1437\n",
      "fold_scores for c=0.0010: [ 0.1771  0.125   0.1354  0.0938  0.1875] mean=0.1437\n",
      "fold_scores for c=0.0005: [ 0.1771  0.125   0.1354  0.0938  0.1875] mean=0.1437\n",
      "fold_scores for c=0.0001: [ 0.1771  0.125   0.1354  0.0938  0.1875] mean=0.1437\n",
      "fold_scores for c=0.5000: [ 0.1771  0.125   0.1354  0.0938  0.1875] mean=0.1437\n",
      "fold_scores for c=1.0000: [ 0.1771  0.125   0.1354  0.0938  0.1875] mean=0.1437\n",
      "fold_scores for c=2.0000: [ 0.1771  0.125   0.1354  0.0938  0.1875] mean=0.1437\n",
      "best c=0.01 with score 0.14375\n"
     ]
    },
    {
     "name": "stderr",
     "output_type": "stream",
     "text": [
      "/home/stober/.local/lib/python2.7/site-packages/sklearn/metrics/classification.py:958: UndefinedMetricWarning: Precision and F-score are ill-defined and being set to 0.0 in labels with no predicted samples.\n",
      "  'precision', 'predicted', average, warn_for)\n",
      "INFO:deepthought.experiments:processing fold 1.0: {'train': [1, 2, 3, 4], 'valid': [0]}\n"
     ]
    },
    {
     "name": "stdout",
     "output_type": "stream",
     "text": [
      "linear_svc results for fold {'train': ['P04', 'P06', 'P07', 'P09', 'P11', 'P12', 'P13', 'P14'], 'valid': ['P01']}\n",
      "             precision    recall  f1-score   support\n",
      "\n",
      "          0       0.14      0.20      0.17         5\n",
      "          1       0.00      0.00      0.00         5\n",
      "          2       0.00      0.00      0.00         5\n",
      "          3       0.00      0.00      0.00         5\n",
      "          4       0.00      0.00      0.00         5\n",
      "          5       0.00      0.00      0.00         5\n",
      "          6       0.14      0.20      0.17         5\n",
      "          7       0.00      0.00      0.00         5\n",
      "          8       0.17      0.20      0.18         5\n",
      "          9       0.00      0.00      0.00         5\n",
      "         10       0.08      0.20      0.12         5\n",
      "         11       0.00      0.00      0.00         5\n",
      "\n",
      "avg / total       0.04      0.07      0.05        60\n",
      "\n",
      "[[1 1 1 0 0 0 1 0 0 1 0 0]\n",
      " [0 0 0 0 0 0 1 0 1 1 2 0]\n",
      " [0 0 0 0 0 0 0 0 0 0 5 0]\n",
      " [1 1 0 0 0 0 0 1 0 0 1 1]\n",
      " [3 0 0 0 0 0 0 0 2 0 0 0]\n",
      " [1 1 1 0 0 0 0 0 1 1 0 0]\n",
      " [0 0 2 0 0 0 1 0 1 0 1 0]\n",
      " [0 0 0 0 2 1 1 0 0 0 1 0]\n",
      " [0 0 2 0 0 0 0 0 1 2 0 0]\n",
      " [0 2 1 0 1 0 1 0 0 0 0 0]\n",
      " [0 0 2 0 0 1 0 0 0 0 1 1]\n",
      " [1 0 0 0 0 0 2 0 0 1 1 0]]\n",
      "overall test accuracy so far: 0.0666666666667\n",
      "processing outer fold {'train': ['P01', 'P06', 'P07', 'P09', 'P11', 'P12', 'P13', 'P14'], 'valid': ['P04']}\n",
      "#train: 18048 #valid: 5664\n"
     ]
    },
    {
     "name": "stderr",
     "output_type": "stream",
     "text": [
      "Epoch 0, step 19 |                                       | Elapsed Time: 0:00:01\n",
      "Epoch 1, step 19 |                                       | Elapsed Time: 0:00:01\n",
      "Epoch 2, step 19 |                                       | Elapsed Time: 0:00:01\n",
      "Epoch 3, step 19 |                                       | Elapsed Time: 0:00:01\n",
      "Epoch 4, step 19 |                                       | Elapsed Time: 0:00:01\n",
      "Epoch 5, step 19 |                                       | Elapsed Time: 0:00:01\n",
      "Epoch 6, step 19 |                                       | Elapsed Time: 0:00:01\n",
      "Epoch 7, step 19 |                                       | Elapsed Time: 0:00:01\n",
      "Epoch 8, step 19 |                                       | Elapsed Time: 0:00:01\n",
      "Epoch 9, step 19 |                                       | Elapsed Time: 0:00:01\n",
      "INFO:deepthought.experiments:processing fold 1.1: {'train': [0, 2, 3, 4], 'valid': [1]}\n"
     ]
    },
    {
     "name": "stdout",
     "output_type": "stream",
     "text": [
      "#train: 18048 #valid: 5664\n"
     ]
    },
    {
     "name": "stderr",
     "output_type": "stream",
     "text": [
      "Epoch 0, step 19 |                                       | Elapsed Time: 0:00:01\n",
      "Epoch 1, step 19 |                                       | Elapsed Time: 0:00:01\n",
      "Epoch 2, step 19 |                                       | Elapsed Time: 0:00:01\n",
      "Epoch 3, step 19 |                                       | Elapsed Time: 0:00:01\n",
      "Epoch 4, step 19 |                                       | Elapsed Time: 0:00:01\n",
      "Epoch 5, step 19 |                                       | Elapsed Time: 0:00:01\n",
      "Epoch 6, step 19 |                                       | Elapsed Time: 0:00:01\n",
      "Epoch 7, step 19 |                                       | Elapsed Time: 0:00:01\n",
      "Epoch 8, step 19 |                                       | Elapsed Time: 0:00:01\n",
      "Epoch 9, step 19 |                                       | Elapsed Time: 0:00:01\n",
      "INFO:deepthought.experiments:processing fold 1.2: {'train': [0, 1, 3, 4], 'valid': [2]}\n"
     ]
    },
    {
     "name": "stdout",
     "output_type": "stream",
     "text": [
      "#train: 18048 #valid: 5664\n"
     ]
    },
    {
     "name": "stderr",
     "output_type": "stream",
     "text": [
      "Epoch 0, step 19 |                                       | Elapsed Time: 0:00:01\n",
      "Epoch 1, step 19 |                                       | Elapsed Time: 0:00:01\n",
      "Epoch 2, step 19 |                                       | Elapsed Time: 0:00:01\n",
      "Epoch 3, step 19 |                                       | Elapsed Time: 0:00:01\n",
      "Epoch 4, step 19 |                                       | Elapsed Time: 0:00:01\n",
      "Epoch 5, step 19 |                                       | Elapsed Time: 0:00:01\n",
      "Epoch 6, step 19 |                                       | Elapsed Time: 0:00:01\n",
      "Epoch 7, step 19 |                                       | Elapsed Time: 0:00:01\n",
      "Epoch 8, step 19 |                                       | Elapsed Time: 0:00:01\n",
      "Epoch 9, step 19 |                                       | Elapsed Time: 0:00:01\n",
      "INFO:deepthought.experiments:processing fold 1.3: {'train': [0, 1, 2, 4], 'valid': [3]}\n"
     ]
    },
    {
     "name": "stdout",
     "output_type": "stream",
     "text": [
      "#train: 18048 #valid: 5664\n"
     ]
    },
    {
     "name": "stderr",
     "output_type": "stream",
     "text": [
      "Epoch 0, step 19 |                                       | Elapsed Time: 0:00:01\n",
      "Epoch 1, step 19 |                                       | Elapsed Time: 0:00:01\n",
      "Epoch 2, step 19 |                                       | Elapsed Time: 0:00:01\n",
      "Epoch 3, step 19 |                                       | Elapsed Time: 0:00:01\n",
      "Epoch 4, step 19 |                                       | Elapsed Time: 0:00:01\n",
      "Epoch 5, step 19 |                                       | Elapsed Time: 0:00:01\n",
      "Epoch 6, step 19 |                                       | Elapsed Time: 0:00:01\n",
      "Epoch 7, step 19 |                                       | Elapsed Time: 0:00:01\n",
      "Epoch 8, step 19 |                                       | Elapsed Time: 0:00:01\n",
      "Epoch 9, step 19 |                                       | Elapsed Time: 0:00:01\n",
      "INFO:deepthought.experiments:processing fold 1.4: {'train': [0, 1, 2, 3], 'valid': [4]}\n"
     ]
    },
    {
     "name": "stdout",
     "output_type": "stream",
     "text": [
      "#train: 18048 #valid: 5664\n"
     ]
    },
    {
     "name": "stderr",
     "output_type": "stream",
     "text": [
      "Epoch 0, step 19 |                                       | Elapsed Time: 0:00:01\n",
      "Epoch 1, step 19 |                                       | Elapsed Time: 0:00:01\n",
      "Epoch 2, step 19 |                                       | Elapsed Time: 0:00:01\n",
      "Epoch 3, step 19 |                                       | Elapsed Time: 0:00:01\n",
      "Epoch 4, step 19 |                                       | Elapsed Time: 0:00:01\n",
      "Epoch 5, step 19 |                                       | Elapsed Time: 0:00:01\n",
      "Epoch 6, step 19 |                                       | Elapsed Time: 0:00:01\n",
      "Epoch 7, step 19 |                                       | Elapsed Time: 0:00:01\n",
      "Epoch 8, step 19 |                                       | Elapsed Time: 0:00:01\n",
      "Epoch 9, step 19 |                                       | Elapsed Time: 0:00:01\n"
     ]
    },
    {
     "name": "stdout",
     "output_type": "stream",
     "text": [
      "fold errors: [  7.496    7.9069  23.0507   1.3169  19.6486]\n",
      "fold_scores for c=0.0100: [ 0.1354  0.1354  0.1354  0.1771  0.1458] mean=0.1458\n",
      "fold_scores for c=0.0500: [ 0.1354  0.1354  0.1354  0.1771  0.1458] mean=0.1458\n",
      "fold_scores for c=0.1000: [ 0.1354  0.1354  0.1354  0.1771  0.1458] mean=0.1458\n",
      "fold_scores for c=0.0050: [ 0.1354  0.1354  0.1354  0.1771  0.1458] mean=0.1458\n",
      "fold_scores for c=0.0010: [ 0.1354  0.1354  0.1354  0.1771  0.1458] mean=0.1458\n",
      "fold_scores for c=0.0005: [ 0.1354  0.1354  0.1354  0.1771  0.1458] mean=0.1458\n",
      "fold_scores for c=0.0001: [ 0.1354  0.1354  0.1354  0.1771  0.1458] mean=0.1458\n",
      "fold_scores for c=0.5000: [ 0.1354  0.1354  0.1354  0.1771  0.1458] mean=0.1458\n",
      "fold_scores for c=1.0000: [ 0.1354  0.1354  0.1354  0.1771  0.1458] mean=0.1458\n",
      "fold_scores for c=2.0000: [ 0.125   0.1354  0.1354  0.1771  0.1562] mean=0.1458\n",
      "best c=0.01 with score 0.145833333333\n"
     ]
    },
    {
     "name": "stderr",
     "output_type": "stream",
     "text": [
      "INFO:deepthought.experiments:processing fold 2.0: {'train': [1, 2, 3, 4], 'valid': [0]}\n"
     ]
    },
    {
     "name": "stdout",
     "output_type": "stream",
     "text": [
      "linear_svc results for fold {'train': ['P01', 'P06', 'P07', 'P09', 'P11', 'P12', 'P13', 'P14'], 'valid': ['P04']}\n",
      "             precision    recall  f1-score   support\n",
      "\n",
      "          0       0.33      0.40      0.36         5\n",
      "          1       0.40      0.40      0.40         5\n",
      "          2       0.12      0.20      0.15         5\n",
      "          3       0.00      0.00      0.00         5\n",
      "          4       0.00      0.00      0.00         5\n",
      "          5       0.00      0.00      0.00         5\n",
      "          6       0.10      0.20      0.13         5\n",
      "          7       0.00      0.00      0.00         5\n",
      "          8       0.14      0.20      0.17         5\n",
      "          9       0.00      0.00      0.00         5\n",
      "         10       0.00      0.00      0.00         5\n",
      "         11       0.50      0.20      0.29         5\n",
      "\n",
      "avg / total       0.13      0.13      0.13        60\n",
      "\n",
      "[[2 0 1 0 0 0 1 0 0 0 1 0]\n",
      " [0 2 1 0 0 1 0 1 0 0 0 0]\n",
      " [0 0 1 0 0 0 1 0 0 2 1 0]\n",
      " [1 0 0 0 0 0 1 0 1 0 2 0]\n",
      " [1 0 0 0 0 3 0 0 1 0 0 0]\n",
      " [0 0 0 0 1 0 0 1 2 0 1 0]\n",
      " [0 1 2 0 0 0 1 0 0 0 0 1]\n",
      " [2 0 0 1 0 1 0 0 1 0 0 0]\n",
      " [0 1 0 0 0 1 2 0 1 0 0 0]\n",
      " [0 1 1 0 0 0 1 0 1 0 1 0]\n",
      " [0 0 2 0 1 1 1 0 0 0 0 0]\n",
      " [0 0 0 0 1 0 2 0 0 0 1 1]]\n",
      "overall test accuracy so far: 0.1\n",
      "processing outer fold {'train': ['P01', 'P04', 'P07', 'P09', 'P11', 'P12', 'P13', 'P14'], 'valid': ['P06']}\n",
      "#train: 18048 #valid: 5664\n"
     ]
    },
    {
     "name": "stderr",
     "output_type": "stream",
     "text": [
      "Epoch 0, step 19 |                                       | Elapsed Time: 0:00:01\n",
      "Epoch 1, step 19 |                                       | Elapsed Time: 0:00:01\n",
      "Epoch 2, step 19 |                                       | Elapsed Time: 0:00:01\n",
      "Epoch 3, step 19 |                                       | Elapsed Time: 0:00:01\n",
      "Epoch 4, step 19 |                                       | Elapsed Time: 0:00:01\n",
      "Epoch 5, step 19 |                                       | Elapsed Time: 0:00:01\n",
      "Epoch 6, step 19 |                                       | Elapsed Time: 0:00:01\n",
      "Epoch 7, step 19 |                                       | Elapsed Time: 0:00:01\n",
      "Epoch 8, step 19 |                                       | Elapsed Time: 0:00:01\n",
      "Epoch 9, step 19 |                                       | Elapsed Time: 0:00:01\n",
      "INFO:deepthought.experiments:processing fold 2.1: {'train': [0, 2, 3, 4], 'valid': [1]}\n"
     ]
    },
    {
     "name": "stdout",
     "output_type": "stream",
     "text": [
      "#train: 18048 #valid: 5664\n"
     ]
    },
    {
     "name": "stderr",
     "output_type": "stream",
     "text": [
      "Epoch 0, step 19 |                                       | Elapsed Time: 0:00:01\n",
      "Epoch 1, step 19 |                                       | Elapsed Time: 0:00:01\n",
      "Epoch 2, step 19 |                                       | Elapsed Time: 0:00:01\n",
      "Epoch 3, step 19 |                                       | Elapsed Time: 0:00:01\n",
      "Epoch 4, step 19 |                                       | Elapsed Time: 0:00:01\n",
      "Epoch 5, step 19 |                                       | Elapsed Time: 0:00:01\n",
      "Epoch 6, step 19 |                                       | Elapsed Time: 0:00:01\n",
      "Epoch 7, step 19 |                                       | Elapsed Time: 0:00:01\n",
      "Epoch 8, step 19 |                                       | Elapsed Time: 0:00:01\n",
      "Epoch 9, step 19 |                                       | Elapsed Time: 0:00:01\n",
      "INFO:deepthought.experiments:processing fold 2.2: {'train': [0, 1, 3, 4], 'valid': [2]}\n"
     ]
    },
    {
     "name": "stdout",
     "output_type": "stream",
     "text": [
      "#train: 18048 #valid: 5664\n"
     ]
    },
    {
     "name": "stderr",
     "output_type": "stream",
     "text": [
      "Epoch 0, step 19 |                                       | Elapsed Time: 0:00:01\n",
      "Epoch 1, step 19 |                                       | Elapsed Time: 0:00:01\n",
      "Epoch 2, step 19 |                                       | Elapsed Time: 0:00:01\n",
      "Epoch 3, step 19 |                                       | Elapsed Time: 0:00:01\n",
      "Epoch 4, step 19 |                                       | Elapsed Time: 0:00:01\n",
      "Epoch 5, step 19 |                                       | Elapsed Time: 0:00:01\n",
      "Epoch 6, step 19 |                                       | Elapsed Time: 0:00:01\n",
      "Epoch 7, step 19 |                                       | Elapsed Time: 0:00:01\n",
      "Epoch 8, step 19 |                                       | Elapsed Time: 0:00:01\n",
      "Epoch 9, step 19 |                                       | Elapsed Time: 0:00:01\n",
      "INFO:deepthought.experiments:processing fold 2.3: {'train': [0, 1, 2, 4], 'valid': [3]}\n"
     ]
    },
    {
     "name": "stdout",
     "output_type": "stream",
     "text": [
      "#train: 18048 #valid: 5664\n"
     ]
    },
    {
     "name": "stderr",
     "output_type": "stream",
     "text": [
      "Epoch 0, step 19 |                                       | Elapsed Time: 0:00:01\n",
      "Epoch 1, step 19 |                                       | Elapsed Time: 0:00:01\n",
      "Epoch 2, step 19 |                                       | Elapsed Time: 0:00:01\n",
      "Epoch 3, step 19 |                                       | Elapsed Time: 0:00:01\n",
      "Epoch 4, step 19 |                                       | Elapsed Time: 0:00:01\n",
      "Epoch 5, step 19 |                                       | Elapsed Time: 0:00:01\n",
      "Epoch 6, step 19 |                                       | Elapsed Time: 0:00:01\n",
      "Epoch 7, step 19 |                                       | Elapsed Time: 0:00:01\n",
      "Epoch 8, step 19 |                                       | Elapsed Time: 0:00:01\n",
      "Epoch 9, step 19 |                                       | Elapsed Time: 0:00:01\n",
      "INFO:deepthought.experiments:processing fold 2.4: {'train': [0, 1, 2, 3], 'valid': [4]}\n"
     ]
    },
    {
     "name": "stdout",
     "output_type": "stream",
     "text": [
      "#train: 18048 #valid: 5664\n"
     ]
    },
    {
     "name": "stderr",
     "output_type": "stream",
     "text": [
      "Epoch 0, step 19 |                                       | Elapsed Time: 0:00:01\n",
      "Epoch 1, step 19 |                                       | Elapsed Time: 0:00:01\n",
      "Epoch 2, step 19 |                                       | Elapsed Time: 0:00:01\n",
      "Epoch 3, step 19 |                                       | Elapsed Time: 0:00:01\n",
      "Epoch 4, step 19 |                                       | Elapsed Time: 0:00:01\n",
      "Epoch 5, step 19 |                                       | Elapsed Time: 0:00:01\n",
      "Epoch 6, step 19 |                                       | Elapsed Time: 0:00:01\n",
      "Epoch 7, step 19 |                                       | Elapsed Time: 0:00:01\n",
      "Epoch 8, step 19 |                                       | Elapsed Time: 0:00:01\n",
      "Epoch 9, step 19 |                                       | Elapsed Time: 0:00:01\n"
     ]
    },
    {
     "name": "stdout",
     "output_type": "stream",
     "text": [
      "fold errors: [  5.2901  17.8299  11.5361  14.276    0.8226]\n",
      "fold_scores for c=0.0100: [ 0.1146  0.0938  0.125   0.0833  0.1562] mean=0.1146\n",
      "fold_scores for c=0.0500: [ 0.1146  0.0938  0.125   0.0833  0.1562] mean=0.1146\n",
      "fold_scores for c=0.1000: [ 0.1146  0.0938  0.125   0.0833  0.1562] mean=0.1146\n",
      "fold_scores for c=0.0050: [ 0.1146  0.0938  0.125   0.0833  0.1562] mean=0.1146\n",
      "fold_scores for c=0.0010: [ 0.1146  0.0938  0.125   0.0833  0.1562] mean=0.1146\n",
      "fold_scores for c=0.0005: [ 0.1146  0.0938  0.125   0.0833  0.1562] mean=0.1146\n",
      "fold_scores for c=0.0001: [ 0.1146  0.0938  0.125   0.0833  0.1562] mean=0.1146\n",
      "fold_scores for c=0.5000: [ 0.1146  0.0938  0.125   0.0833  0.1562] mean=0.1146\n",
      "fold_scores for c=1.0000: [ 0.1146  0.0938  0.125   0.0833  0.1562] mean=0.1146\n",
      "fold_scores for c=2.0000: [ 0.1146  0.0938  0.125   0.0833  0.1562] mean=0.1146\n",
      "best c=0.01 with score 0.114583333333\n"
     ]
    },
    {
     "name": "stderr",
     "output_type": "stream",
     "text": [
      "INFO:deepthought.experiments:processing fold 3.0: {'train': [1, 2, 3, 4], 'valid': [0]}\n"
     ]
    },
    {
     "name": "stdout",
     "output_type": "stream",
     "text": [
      "linear_svc results for fold {'train': ['P01', 'P04', 'P07', 'P09', 'P11', 'P12', 'P13', 'P14'], 'valid': ['P06']}\n",
      "             precision    recall  f1-score   support\n",
      "\n",
      "          0       0.50      0.20      0.29         5\n",
      "          1       0.33      0.40      0.36         5\n",
      "          2       0.09      0.20      0.13         5\n",
      "          3       0.00      0.00      0.00         5\n",
      "          4       0.00      0.00      0.00         5\n",
      "          5       0.00      0.00      0.00         5\n",
      "          6       0.50      0.20      0.29         5\n",
      "          7       0.00      0.00      0.00         5\n",
      "          8       0.20      0.20      0.20         5\n",
      "          9       0.33      0.40      0.36         5\n",
      "         10       0.00      0.00      0.00         5\n",
      "         11       0.33      0.20      0.25         5\n",
      "\n",
      "avg / total       0.19      0.15      0.16        60\n",
      "\n",
      "[[1 0 2 0 1 0 0 0 1 0 0 0]\n",
      " [0 2 0 2 0 0 0 0 1 0 0 0]\n",
      " [1 0 1 0 0 1 0 0 1 0 1 0]\n",
      " [0 0 0 0 2 0 1 1 0 1 0 0]\n",
      " [0 1 3 0 0 0 0 0 0 1 0 0]\n",
      " [0 1 2 1 1 0 0 0 0 0 0 0]\n",
      " [0 0 0 1 0 1 1 0 0 0 1 1]\n",
      " [0 0 2 1 1 0 0 0 0 1 0 0]\n",
      " [0 1 0 1 1 0 0 1 1 0 0 0]\n",
      " [0 0 0 0 2 0 0 1 0 2 0 0]\n",
      " [0 1 0 1 0 0 0 0 1 1 0 1]\n",
      " [0 0 1 2 0 0 0 0 0 0 1 1]]\n",
      "overall test accuracy so far: 0.116666666667\n",
      "processing outer fold {'train': ['P01', 'P04', 'P06', 'P09', 'P11', 'P12', 'P13', 'P14'], 'valid': ['P07']}\n",
      "#train: 18048 #valid: 5664\n"
     ]
    },
    {
     "name": "stderr",
     "output_type": "stream",
     "text": [
      "Epoch 0, step 19 |                                       | Elapsed Time: 0:00:01\n",
      "Epoch 1, step 19 |                                       | Elapsed Time: 0:00:01\n",
      "Epoch 2, step 19 |                                       | Elapsed Time: 0:00:01\n",
      "Epoch 3, step 19 |                                       | Elapsed Time: 0:00:01\n",
      "Epoch 4, step 19 |                                       | Elapsed Time: 0:00:01\n",
      "Epoch 5, step 19 |                                       | Elapsed Time: 0:00:01\n",
      "Epoch 6, step 19 |                                       | Elapsed Time: 0:00:01\n",
      "Epoch 7, step 19 |                                       | Elapsed Time: 0:00:01\n",
      "Epoch 8, step 19 |                                       | Elapsed Time: 0:00:01\n",
      "Epoch 9, step 19 |                                       | Elapsed Time: 0:00:01\n",
      "INFO:deepthought.experiments:processing fold 3.1: {'train': [0, 2, 3, 4], 'valid': [1]}\n"
     ]
    },
    {
     "name": "stdout",
     "output_type": "stream",
     "text": [
      "#train: 18048 #valid: 5664\n"
     ]
    },
    {
     "name": "stderr",
     "output_type": "stream",
     "text": [
      "Epoch 0, step 19 |                                       | Elapsed Time: 0:00:01\n",
      "Epoch 1, step 19 |                                       | Elapsed Time: 0:00:01\n",
      "Epoch 2, step 19 |                                       | Elapsed Time: 0:00:01\n",
      "Epoch 3, step 19 |                                       | Elapsed Time: 0:00:01\n",
      "Epoch 4, step 19 |                                       | Elapsed Time: 0:00:01\n",
      "Epoch 5, step 19 |                                       | Elapsed Time: 0:00:01\n",
      "Epoch 6, step 19 |                                       | Elapsed Time: 0:00:01\n",
      "Epoch 7, step 19 |                                       | Elapsed Time: 0:00:01\n",
      "Epoch 8, step 19 |                                       | Elapsed Time: 0:00:01\n",
      "Epoch 9, step 19 |                                       | Elapsed Time: 0:00:01\n",
      "INFO:deepthought.experiments:processing fold 3.2: {'train': [0, 1, 3, 4], 'valid': [2]}\n"
     ]
    },
    {
     "name": "stdout",
     "output_type": "stream",
     "text": [
      "#train: 18048 #valid: 5664\n"
     ]
    },
    {
     "name": "stderr",
     "output_type": "stream",
     "text": [
      "Epoch 0, step 19 |                                       | Elapsed Time: 0:00:01\n",
      "Epoch 1, step 19 |                                       | Elapsed Time: 0:00:01\n",
      "Epoch 2, step 19 |                                       | Elapsed Time: 0:00:01\n",
      "Epoch 3, step 19 |                                       | Elapsed Time: 0:00:01\n",
      "Epoch 4, step 19 |                                       | Elapsed Time: 0:00:01\n",
      "Epoch 5, step 19 |                                       | Elapsed Time: 0:00:01\n",
      "Epoch 6, step 19 |                                       | Elapsed Time: 0:00:01\n",
      "Epoch 7, step 19 |                                       | Elapsed Time: 0:00:01\n",
      "Epoch 8, step 19 |                                       | Elapsed Time: 0:00:01\n",
      "Epoch 9, step 19 |                                       | Elapsed Time: 0:00:01\n",
      "INFO:deepthought.experiments:processing fold 3.3: {'train': [0, 1, 2, 4], 'valid': [3]}\n"
     ]
    },
    {
     "name": "stdout",
     "output_type": "stream",
     "text": [
      "#train: 18048 #valid: 5664\n"
     ]
    },
    {
     "name": "stderr",
     "output_type": "stream",
     "text": [
      "Epoch 0, step 19 |                                       | Elapsed Time: 0:00:01\n",
      "Epoch 1, step 19 |                                       | Elapsed Time: 0:00:01\n",
      "Epoch 2, step 19 |                                       | Elapsed Time: 0:00:01\n",
      "Epoch 3, step 19 |                                       | Elapsed Time: 0:00:01\n",
      "Epoch 4, step 19 |                                       | Elapsed Time: 0:00:01\n",
      "Epoch 5, step 19 |                                       | Elapsed Time: 0:00:01\n",
      "Epoch 6, step 19 |                                       | Elapsed Time: 0:00:01\n",
      "Epoch 7, step 19 |                                       | Elapsed Time: 0:00:01\n",
      "Epoch 8, step 19 |                                       | Elapsed Time: 0:00:01\n",
      "Epoch 9, step 19 |                                       | Elapsed Time: 0:00:01\n",
      "INFO:deepthought.experiments:processing fold 3.4: {'train': [0, 1, 2, 3], 'valid': [4]}\n"
     ]
    },
    {
     "name": "stdout",
     "output_type": "stream",
     "text": [
      "#train: 18048 #valid: 5664\n"
     ]
    },
    {
     "name": "stderr",
     "output_type": "stream",
     "text": [
      "Epoch 0, step 19 |                                       | Elapsed Time: 0:00:01\n",
      "Epoch 1, step 19 |                                       | Elapsed Time: 0:00:01\n",
      "Epoch 2, step 19 |                                       | Elapsed Time: 0:00:01\n",
      "Epoch 3, step 19 |                                       | Elapsed Time: 0:00:01\n",
      "Epoch 4, step 19 |                                       | Elapsed Time: 0:00:01\n",
      "Epoch 5, step 19 |                                       | Elapsed Time: 0:00:01\n",
      "Epoch 6, step 19 |                                       | Elapsed Time: 0:00:01\n",
      "Epoch 7, step 19 |                                       | Elapsed Time: 0:00:01\n",
      "Epoch 8, step 19 |                                       | Elapsed Time: 0:00:01\n",
      "Epoch 9, step 19 |                                       | Elapsed Time: 0:00:01\n"
     ]
    },
    {
     "name": "stdout",
     "output_type": "stream",
     "text": [
      "fold errors: [ 18.5312  17.2625   5.5629   8.1768   9.2375]\n",
      "fold_scores for c=0.0100: [ 0.1771  0.1354  0.1146  0.0938  0.1562] mean=0.1354\n",
      "fold_scores for c=0.0500: [ 0.1771  0.1354  0.1146  0.0938  0.1562] mean=0.1354\n",
      "fold_scores for c=0.1000: [ 0.1771  0.1354  0.1146  0.0938  0.1562] mean=0.1354\n",
      "fold_scores for c=0.0050: [ 0.1771  0.1354  0.1146  0.0938  0.1562] mean=0.1354\n",
      "fold_scores for c=0.0010: [ 0.1771  0.1354  0.1146  0.0938  0.1562] mean=0.1354\n",
      "fold_scores for c=0.0005: [ 0.1771  0.1354  0.1146  0.0938  0.1562] mean=0.1354\n",
      "fold_scores for c=0.0001: [ 0.1771  0.1354  0.1146  0.0938  0.1562] mean=0.1354\n",
      "fold_scores for c=0.5000: [ 0.1771  0.1354  0.1146  0.0938  0.1562] mean=0.1354\n",
      "fold_scores for c=1.0000: [ 0.1771  0.1354  0.1146  0.0938  0.1562] mean=0.1354\n",
      "fold_scores for c=2.0000: [ 0.1875  0.1354  0.1146  0.0938  0.1562] mean=0.1375\n",
      "best c=2 with score 0.1375\n"
     ]
    },
    {
     "name": "stderr",
     "output_type": "stream",
     "text": [
      "INFO:deepthought.experiments:processing fold 4.0: {'train': [1, 2, 3, 4], 'valid': [0]}\n"
     ]
    },
    {
     "name": "stdout",
     "output_type": "stream",
     "text": [
      "linear_svc results for fold {'train': ['P01', 'P04', 'P06', 'P09', 'P11', 'P12', 'P13', 'P14'], 'valid': ['P07']}\n",
      "             precision    recall  f1-score   support\n",
      "\n",
      "          0       0.00      0.00      0.00         5\n",
      "          1       0.00      0.00      0.00         5\n",
      "          2       0.33      0.40      0.36         5\n",
      "          3       0.00      0.00      0.00         5\n",
      "          4       0.00      0.00      0.00         5\n",
      "          5       0.40      0.40      0.40         5\n",
      "          6       0.17      0.20      0.18         5\n",
      "          7       0.00      0.00      0.00         5\n",
      "          8       0.00      0.00      0.00         5\n",
      "          9       1.00      0.20      0.33         5\n",
      "         10       0.25      0.40      0.31         5\n",
      "         11       0.50      0.40      0.44         5\n",
      "\n",
      "avg / total       0.22      0.17      0.17        60\n",
      "\n",
      "[[0 2 0 0 1 0 0 0 1 0 0 1]\n",
      " [1 0 0 0 0 1 0 1 1 0 1 0]\n",
      " [0 0 2 1 1 0 0 0 0 0 1 0]\n",
      " [2 0 0 0 1 0 1 1 0 0 0 0]\n",
      " [0 0 2 0 0 0 0 1 0 0 2 0]\n",
      " [1 2 0 0 0 2 0 0 0 0 0 0]\n",
      " [0 0 0 0 0 1 1 1 2 0 0 0]\n",
      " [0 0 0 1 1 0 2 0 1 0 0 0]\n",
      " [0 0 1 0 1 0 0 1 0 0 1 1]\n",
      " [1 0 1 0 0 0 1 0 0 1 1 0]\n",
      " [0 0 0 0 0 1 1 0 1 0 2 0]\n",
      " [0 0 0 0 1 0 0 0 2 0 0 2]]\n",
      "overall test accuracy so far: 0.129166666667\n",
      "processing outer fold {'train': ['P01', 'P04', 'P06', 'P07', 'P11', 'P12', 'P13', 'P14'], 'valid': ['P09']}\n",
      "#train: 18048 #valid: 5664\n"
     ]
    },
    {
     "name": "stderr",
     "output_type": "stream",
     "text": [
      "Epoch 0, step 19 |                                       | Elapsed Time: 0:00:01\n",
      "Epoch 1, step 19 |                                       | Elapsed Time: 0:00:01\n",
      "Epoch 2, step 19 |                                       | Elapsed Time: 0:00:01\n",
      "Epoch 3, step 19 |                                       | Elapsed Time: 0:00:01\n",
      "Epoch 4, step 19 |                                       | Elapsed Time: 0:00:01\n",
      "Epoch 5, step 19 |                                       | Elapsed Time: 0:00:01\n",
      "Epoch 6, step 19 |                                       | Elapsed Time: 0:00:01\n",
      "Epoch 7, step 19 |                                       | Elapsed Time: 0:00:01\n",
      "Epoch 8, step 19 |                                       | Elapsed Time: 0:00:01\n",
      "Epoch 9, step 19 |                                       | Elapsed Time: 0:00:01\n",
      "INFO:deepthought.experiments:processing fold 4.1: {'train': [0, 2, 3, 4], 'valid': [1]}\n"
     ]
    },
    {
     "name": "stdout",
     "output_type": "stream",
     "text": [
      "#train: 18048 #valid: 5664\n"
     ]
    },
    {
     "name": "stderr",
     "output_type": "stream",
     "text": [
      "Epoch 0, step 19 |                                       | Elapsed Time: 0:00:01\n",
      "Epoch 1, step 19 |                                       | Elapsed Time: 0:00:01\n",
      "Epoch 2, step 19 |                                       | Elapsed Time: 0:00:01\n",
      "Epoch 3, step 19 |                                       | Elapsed Time: 0:00:01\n",
      "Epoch 4, step 19 |                                       | Elapsed Time: 0:00:01\n",
      "Epoch 5, step 19 |                                       | Elapsed Time: 0:00:01\n",
      "Epoch 6, step 19 |                                       | Elapsed Time: 0:00:01\n",
      "Epoch 7, step 19 |                                       | Elapsed Time: 0:00:01\n",
      "Epoch 8, step 19 |                                       | Elapsed Time: 0:00:01\n",
      "Epoch 9, step 19 |                                       | Elapsed Time: 0:00:01\n",
      "INFO:deepthought.experiments:processing fold 4.2: {'train': [0, 1, 3, 4], 'valid': [2]}\n"
     ]
    },
    {
     "name": "stdout",
     "output_type": "stream",
     "text": [
      "#train: 18048 #valid: 5664\n"
     ]
    },
    {
     "name": "stderr",
     "output_type": "stream",
     "text": [
      "Epoch 0, step 19 |                                       | Elapsed Time: 0:00:01\n",
      "Epoch 1, step 19 |                                       | Elapsed Time: 0:00:01\n",
      "Epoch 2, step 19 |                                       | Elapsed Time: 0:00:01\n",
      "Epoch 3, step 19 |                                       | Elapsed Time: 0:00:01\n",
      "Epoch 4, step 19 |                                       | Elapsed Time: 0:00:01\n",
      "Epoch 5, step 19 |                                       | Elapsed Time: 0:00:01\n",
      "Epoch 6, step 19 |                                       | Elapsed Time: 0:00:01\n",
      "Epoch 7, step 19 |                                       | Elapsed Time: 0:00:01\n",
      "Epoch 8, step 19 |                                       | Elapsed Time: 0:00:01\n",
      "Epoch 9, step 19 |                                       | Elapsed Time: 0:00:01\n",
      "INFO:deepthought.experiments:processing fold 4.3: {'train': [0, 1, 2, 4], 'valid': [3]}\n"
     ]
    },
    {
     "name": "stdout",
     "output_type": "stream",
     "text": [
      "#train: 18048 #valid: 5664\n"
     ]
    },
    {
     "name": "stderr",
     "output_type": "stream",
     "text": [
      "Epoch 0, step 19 |                                       | Elapsed Time: 0:00:01\n",
      "Epoch 1, step 19 |                                       | Elapsed Time: 0:00:01\n",
      "Epoch 2, step 19 |                                       | Elapsed Time: 0:00:01\n",
      "Epoch 3, step 19 |                                       | Elapsed Time: 0:00:01\n",
      "Epoch 4, step 19 |                                       | Elapsed Time: 0:00:01\n",
      "Epoch 5, step 19 |                                       | Elapsed Time: 0:00:01\n",
      "Epoch 6, step 19 |                                       | Elapsed Time: 0:00:01\n",
      "Epoch 7, step 19 |                                       | Elapsed Time: 0:00:01\n",
      "Epoch 8, step 19 |                                       | Elapsed Time: 0:00:01\n",
      "Epoch 9, step 19 |                                       | Elapsed Time: 0:00:01\n",
      "INFO:deepthought.experiments:processing fold 4.4: {'train': [0, 1, 2, 3], 'valid': [4]}\n"
     ]
    },
    {
     "name": "stdout",
     "output_type": "stream",
     "text": [
      "#train: 18048 #valid: 5664\n"
     ]
    },
    {
     "name": "stderr",
     "output_type": "stream",
     "text": [
      "Epoch 0, step 19 |                                       | Elapsed Time: 0:00:01\n",
      "Epoch 1, step 19 |                                       | Elapsed Time: 0:00:01\n",
      "Epoch 2, step 19 |                                       | Elapsed Time: 0:00:01\n",
      "Epoch 3, step 19 |                                       | Elapsed Time: 0:00:01\n",
      "Epoch 4, step 19 |                                       | Elapsed Time: 0:00:01\n",
      "Epoch 5, step 19 |                                       | Elapsed Time: 0:00:01\n",
      "Epoch 6, step 19 |                                       | Elapsed Time: 0:00:01\n",
      "Epoch 7, step 19 |                                       | Elapsed Time: 0:00:01\n",
      "Epoch 8, step 19 |                                       | Elapsed Time: 0:00:01\n",
      "Epoch 9, step 19 |                                       | Elapsed Time: 0:00:01\n"
     ]
    },
    {
     "name": "stdout",
     "output_type": "stream",
     "text": [
      "fold errors: [ 3.7752  2.4575  3.3958  4.6813  4.9933]\n",
      "fold_scores for c=0.0100: [ 0.1146  0.1354  0.1146  0.125   0.1562] mean=0.1292\n",
      "fold_scores for c=0.0500: [ 0.1146  0.1354  0.1146  0.125   0.1562] mean=0.1292\n",
      "fold_scores for c=0.1000: [ 0.1146  0.1354  0.1146  0.125   0.1562] mean=0.1292\n",
      "fold_scores for c=0.0050: [ 0.1146  0.1354  0.1146  0.125   0.1562] mean=0.1292\n",
      "fold_scores for c=0.0010: [ 0.1146  0.1354  0.1146  0.125   0.1562] mean=0.1292\n",
      "fold_scores for c=0.0005: [ 0.1146  0.1354  0.1146  0.125   0.1562] mean=0.1292\n",
      "fold_scores for c=0.0001: [ 0.1146  0.1354  0.1146  0.125   0.1562] mean=0.1292\n",
      "fold_scores for c=0.5000: [ 0.1146  0.1354  0.1146  0.125   0.1562] mean=0.1292\n",
      "fold_scores for c=1.0000: [ 0.1146  0.1354  0.1146  0.125   0.1562] mean=0.1292\n",
      "fold_scores for c=2.0000: [ 0.1146  0.1354  0.1146  0.125   0.1562] mean=0.1292\n",
      "best c=0.01 with score 0.129166666667\n"
     ]
    },
    {
     "name": "stderr",
     "output_type": "stream",
     "text": [
      "INFO:deepthought.experiments:processing fold 5.0: {'train': [1, 2, 3, 4], 'valid': [0]}\n"
     ]
    },
    {
     "name": "stdout",
     "output_type": "stream",
     "text": [
      "linear_svc results for fold {'train': ['P01', 'P04', 'P06', 'P07', 'P11', 'P12', 'P13', 'P14'], 'valid': ['P09']}\n",
      "             precision    recall  f1-score   support\n",
      "\n",
      "          0       0.25      0.40      0.31         5\n",
      "          1       0.25      0.20      0.22         5\n",
      "          2       0.00      0.00      0.00         5\n",
      "          3       0.25      0.20      0.22         5\n",
      "          4       0.00      0.00      0.00         5\n",
      "          5       0.00      0.00      0.00         5\n",
      "          6       0.25      0.20      0.22         5\n",
      "          7       0.00      0.00      0.00         5\n",
      "          8       0.00      0.00      0.00         5\n",
      "          9       0.00      0.00      0.00         5\n",
      "         10       0.18      0.40      0.25         5\n",
      "         11       0.33      0.20      0.25         5\n",
      "\n",
      "avg / total       0.13      0.13      0.12        60\n",
      "\n",
      "[[2 0 0 0 0 1 0 0 1 0 0 1]\n",
      " [0 1 0 0 0 1 0 0 0 1 2 0]\n",
      " [0 0 0 0 0 1 0 1 1 0 2 0]\n",
      " [0 0 0 1 1 0 0 1 1 0 1 0]\n",
      " [3 0 0 0 0 1 0 0 0 0 0 1]\n",
      " [1 1 1 0 0 0 0 1 1 0 0 0]\n",
      " [0 0 0 1 0 0 1 1 0 0 2 0]\n",
      " [0 0 0 1 0 0 2 0 0 1 1 0]\n",
      " [1 1 0 1 2 0 0 0 0 0 0 0]\n",
      " [0 1 0 0 0 0 1 1 1 0 1 0]\n",
      " [0 0 2 0 0 0 0 0 0 1 2 0]\n",
      " [1 0 0 0 0 0 0 0 2 1 0 1]]\n",
      "overall test accuracy so far: 0.13\n",
      "processing outer fold {'train': ['P01', 'P04', 'P06', 'P07', 'P09', 'P12', 'P13', 'P14'], 'valid': ['P11']}\n",
      "#train: 18048 #valid: 5664\n"
     ]
    },
    {
     "name": "stderr",
     "output_type": "stream",
     "text": [
      "Epoch 0, step 19 |                                       | Elapsed Time: 0:00:01\n",
      "Epoch 1, step 19 |                                       | Elapsed Time: 0:00:01\n",
      "Epoch 2, step 19 |                                       | Elapsed Time: 0:00:01\n",
      "Epoch 3, step 19 |                                       | Elapsed Time: 0:00:01\n",
      "Epoch 4, step 19 |                                       | Elapsed Time: 0:00:01\n",
      "Epoch 5, step 19 |                                       | Elapsed Time: 0:00:01\n",
      "Epoch 6, step 19 |                                       | Elapsed Time: 0:00:01\n",
      "Epoch 7, step 19 |                                       | Elapsed Time: 0:00:01\n",
      "Epoch 8, step 19 |                                       | Elapsed Time: 0:00:01\n",
      "Epoch 9, step 19 |                                       | Elapsed Time: 0:00:01\n",
      "INFO:deepthought.experiments:processing fold 5.1: {'train': [0, 2, 3, 4], 'valid': [1]}\n"
     ]
    },
    {
     "name": "stdout",
     "output_type": "stream",
     "text": [
      "#train: 18048 #valid: 5664\n"
     ]
    },
    {
     "name": "stderr",
     "output_type": "stream",
     "text": [
      "Epoch 0, step 19 |                                       | Elapsed Time: 0:00:01\n",
      "Epoch 1, step 19 |                                       | Elapsed Time: 0:00:01\n",
      "Epoch 2, step 19 |                                       | Elapsed Time: 0:00:01\n",
      "Epoch 3, step 19 |                                       | Elapsed Time: 0:00:01\n",
      "Epoch 4, step 19 |                                       | Elapsed Time: 0:00:01\n",
      "Epoch 5, step 19 |                                       | Elapsed Time: 0:00:01\n",
      "Epoch 6, step 19 |                                       | Elapsed Time: 0:00:01\n",
      "Epoch 7, step 19 |                                       | Elapsed Time: 0:00:01\n",
      "Epoch 8, step 19 |                                       | Elapsed Time: 0:00:01\n",
      "Epoch 9, step 19 |                                       | Elapsed Time: 0:00:01\n",
      "INFO:deepthought.experiments:processing fold 5.2: {'train': [0, 1, 3, 4], 'valid': [2]}\n"
     ]
    },
    {
     "name": "stdout",
     "output_type": "stream",
     "text": [
      "#train: 18048 #valid: 5664\n"
     ]
    },
    {
     "name": "stderr",
     "output_type": "stream",
     "text": [
      "Epoch 0, step 19 |                                       | Elapsed Time: 0:00:01\n",
      "Epoch 1, step 19 |                                       | Elapsed Time: 0:00:01\n",
      "Epoch 2, step 19 |                                       | Elapsed Time: 0:00:01\n",
      "Epoch 3, step 19 |                                       | Elapsed Time: 0:00:01\n",
      "Epoch 4, step 19 |                                       | Elapsed Time: 0:00:01\n",
      "Epoch 5, step 19 |                                       | Elapsed Time: 0:00:01\n",
      "Epoch 6, step 19 |                                       | Elapsed Time: 0:00:01\n",
      "Epoch 7, step 19 |                                       | Elapsed Time: 0:00:01\n",
      "Epoch 8, step 19 |                                       | Elapsed Time: 0:00:01\n",
      "Epoch 9, step 19 |                                       | Elapsed Time: 0:00:01\n",
      "INFO:deepthought.experiments:processing fold 5.3: {'train': [0, 1, 2, 4], 'valid': [3]}\n"
     ]
    },
    {
     "name": "stdout",
     "output_type": "stream",
     "text": [
      "#train: 18048 #valid: 5664\n"
     ]
    },
    {
     "name": "stderr",
     "output_type": "stream",
     "text": [
      "Epoch 0, step 19 |                                       | Elapsed Time: 0:00:01\n",
      "Epoch 1, step 19 |                                       | Elapsed Time: 0:00:01\n",
      "Epoch 2, step 19 |                                       | Elapsed Time: 0:00:01\n",
      "Epoch 3, step 19 |                                       | Elapsed Time: 0:00:01\n",
      "Epoch 4, step 19 |                                       | Elapsed Time: 0:00:01\n",
      "Epoch 5, step 19 |                                       | Elapsed Time: 0:00:01\n",
      "Epoch 6, step 19 |                                       | Elapsed Time: 0:00:01\n",
      "Epoch 7, step 19 |                                       | Elapsed Time: 0:00:01\n",
      "Epoch 8, step 19 |                                       | Elapsed Time: 0:00:01\n",
      "Epoch 9, step 19 |                                       | Elapsed Time: 0:00:01\n",
      "INFO:deepthought.experiments:processing fold 5.4: {'train': [0, 1, 2, 3], 'valid': [4]}\n"
     ]
    },
    {
     "name": "stdout",
     "output_type": "stream",
     "text": [
      "#train: 18048 #valid: 5664\n"
     ]
    },
    {
     "name": "stderr",
     "output_type": "stream",
     "text": [
      "Epoch 0, step 19 |                                       | Elapsed Time: 0:00:01\n",
      "Epoch 1, step 19 |                                       | Elapsed Time: 0:00:01\n",
      "Epoch 2, step 19 |                                       | Elapsed Time: 0:00:01\n",
      "Epoch 3, step 19 |                                       | Elapsed Time: 0:00:01\n",
      "Epoch 4, step 19 |                                       | Elapsed Time: 0:00:01\n",
      "Epoch 5, step 19 |                                       | Elapsed Time: 0:00:01\n",
      "Epoch 6, step 19 |                                       | Elapsed Time: 0:00:01\n",
      "Epoch 7, step 19 |                                       | Elapsed Time: 0:00:01\n",
      "Epoch 8, step 19 |                                       | Elapsed Time: 0:00:01\n",
      "Epoch 9, step 19 |                                       | Elapsed Time: 0:00:01\n"
     ]
    },
    {
     "name": "stdout",
     "output_type": "stream",
     "text": [
      "fold errors: [  2.7318   4.767    9.3078   9.8395  10.5026]\n",
      "fold_scores for c=0.0100: [ 0.1979  0.1458  0.0729  0.125   0.1771] mean=0.1438\n",
      "fold_scores for c=0.0500: [ 0.1979  0.1458  0.0729  0.125   0.1771] mean=0.1438\n",
      "fold_scores for c=0.1000: [ 0.1979  0.1458  0.0729  0.125   0.1771] mean=0.1438\n",
      "fold_scores for c=0.0050: [ 0.1979  0.1458  0.0729  0.125   0.1771] mean=0.1438\n",
      "fold_scores for c=0.0010: [ 0.1979  0.1458  0.0729  0.125   0.1771] mean=0.1438\n",
      "fold_scores for c=0.0005: [ 0.1979  0.1458  0.0729  0.125   0.1771] mean=0.1438\n",
      "fold_scores for c=0.0001: [ 0.1979  0.1458  0.0729  0.125   0.1771] mean=0.1438\n",
      "fold_scores for c=0.5000: [ 0.1979  0.1458  0.0729  0.125   0.1771] mean=0.1438\n",
      "fold_scores for c=1.0000: [ 0.1979  0.1458  0.0729  0.125   0.1771] mean=0.1438\n",
      "fold_scores for c=2.0000: [ 0.1979  0.1458  0.0729  0.125   0.1771] mean=0.1438\n",
      "best c=0.01 with score 0.14375\n"
     ]
    },
    {
     "name": "stderr",
     "output_type": "stream",
     "text": [
      "INFO:deepthought.experiments:processing fold 6.0: {'train': [1, 2, 3, 4], 'valid': [0]}\n"
     ]
    },
    {
     "name": "stdout",
     "output_type": "stream",
     "text": [
      "linear_svc results for fold {'train': ['P01', 'P04', 'P06', 'P07', 'P09', 'P12', 'P13', 'P14'], 'valid': ['P11']}\n",
      "             precision    recall  f1-score   support\n",
      "\n",
      "          0       0.00      0.00      0.00         5\n",
      "          1       0.25      0.20      0.22         5\n",
      "          2       0.00      0.00      0.00         5\n",
      "          3       0.00      0.00      0.00         5\n",
      "          4       0.00      0.00      0.00         5\n",
      "          5       0.17      0.20      0.18         5\n",
      "          6       0.00      0.00      0.00         5\n",
      "          7       0.14      0.20      0.17         5\n",
      "          8       0.25      0.20      0.22         5\n",
      "          9       0.00      0.00      0.00         5\n",
      "         10       0.22      0.40      0.29         5\n",
      "         11       0.00      0.00      0.00         5\n",
      "\n",
      "avg / total       0.09      0.10      0.09        60\n",
      "\n",
      "[[0 0 0 0 0 1 1 2 1 0 0 0]\n",
      " [0 1 0 0 0 1 0 0 1 0 0 2]\n",
      " [0 1 0 0 0 0 1 0 0 0 3 0]\n",
      " [0 1 2 0 0 0 0 1 0 0 1 0]\n",
      " [0 1 2 0 0 1 0 0 0 0 0 1]\n",
      " [0 0 1 0 1 1 0 0 0 0 1 1]\n",
      " [0 0 0 0 1 0 0 2 0 0 1 1]\n",
      " [0 0 2 1 0 0 1 1 0 0 0 0]\n",
      " [0 0 0 0 0 0 2 1 1 1 0 0]\n",
      " [0 0 2 0 0 1 0 0 0 0 1 1]\n",
      " [0 0 2 1 0 0 0 0 0 0 2 0]\n",
      " [0 0 0 0 0 1 2 0 1 1 0 0]]\n",
      "overall test accuracy so far: 0.125\n",
      "processing outer fold {'train': ['P01', 'P04', 'P06', 'P07', 'P09', 'P11', 'P13', 'P14'], 'valid': ['P12']}\n",
      "#train: 18048 #valid: 5664\n"
     ]
    },
    {
     "name": "stderr",
     "output_type": "stream",
     "text": [
      "Epoch 0, step 19 |                                       | Elapsed Time: 0:00:01\n",
      "Epoch 1, step 19 |                                       | Elapsed Time: 0:00:01\n",
      "Epoch 2, step 19 |                                       | Elapsed Time: 0:00:01\n",
      "Epoch 3, step 19 |                                       | Elapsed Time: 0:00:01\n",
      "Epoch 4, step 19 |                                       | Elapsed Time: 0:00:01\n",
      "Epoch 5, step 19 |                                       | Elapsed Time: 0:00:01\n",
      "Epoch 6, step 19 |                                       | Elapsed Time: 0:00:01\n",
      "Epoch 7, step 19 |                                       | Elapsed Time: 0:00:01\n",
      "Epoch 8, step 19 |                                       | Elapsed Time: 0:00:01\n",
      "Epoch 9, step 19 |                                       | Elapsed Time: 0:00:01\n",
      "INFO:deepthought.experiments:processing fold 6.1: {'train': [0, 2, 3, 4], 'valid': [1]}\n"
     ]
    },
    {
     "name": "stdout",
     "output_type": "stream",
     "text": [
      "#train: 18048 #valid: 5664\n"
     ]
    },
    {
     "name": "stderr",
     "output_type": "stream",
     "text": [
      "Epoch 0, step 19 |                                       | Elapsed Time: 0:00:01\n",
      "Epoch 1, step 19 |                                       | Elapsed Time: 0:00:01\n",
      "Epoch 2, step 19 |                                       | Elapsed Time: 0:00:01\n",
      "Epoch 3, step 19 |                                       | Elapsed Time: 0:00:01\n",
      "Epoch 4, step 19 |                                       | Elapsed Time: 0:00:01\n",
      "Epoch 5, step 19 |                                       | Elapsed Time: 0:00:01\n",
      "Epoch 6, step 19 |                                       | Elapsed Time: 0:00:01\n",
      "Epoch 7, step 19 |                                       | Elapsed Time: 0:00:01\n",
      "Epoch 8, step 19 |                                       | Elapsed Time: 0:00:01\n",
      "Epoch 9, step 19 |                                       | Elapsed Time: 0:00:01\n",
      "INFO:deepthought.experiments:processing fold 6.2: {'train': [0, 1, 3, 4], 'valid': [2]}\n"
     ]
    },
    {
     "name": "stdout",
     "output_type": "stream",
     "text": [
      "#train: 18048 #valid: 5664\n"
     ]
    },
    {
     "name": "stderr",
     "output_type": "stream",
     "text": [
      "Epoch 0, step 19 |                                       | Elapsed Time: 0:00:01\n",
      "Epoch 1, step 19 |                                       | Elapsed Time: 0:00:01\n",
      "Epoch 2, step 19 |                                       | Elapsed Time: 0:00:01\n",
      "Epoch 3, step 19 |                                       | Elapsed Time: 0:00:01\n",
      "Epoch 4, step 19 |                                       | Elapsed Time: 0:00:01\n",
      "Epoch 5, step 19 |                                       | Elapsed Time: 0:00:01\n",
      "Epoch 6, step 19 |                                       | Elapsed Time: 0:00:01\n",
      "Epoch 7, step 19 |                                       | Elapsed Time: 0:00:01\n",
      "Epoch 8, step 19 |                                       | Elapsed Time: 0:00:01\n",
      "Epoch 9, step 19 |                                       | Elapsed Time: 0:00:01\n",
      "INFO:deepthought.experiments:processing fold 6.3: {'train': [0, 1, 2, 4], 'valid': [3]}\n"
     ]
    },
    {
     "name": "stdout",
     "output_type": "stream",
     "text": [
      "#train: 18048 #valid: 5664\n"
     ]
    },
    {
     "name": "stderr",
     "output_type": "stream",
     "text": [
      "Epoch 0, step 19 |                                       | Elapsed Time: 0:00:01\n",
      "Epoch 1, step 19 |                                       | Elapsed Time: 0:00:01\n",
      "Epoch 2, step 19 |                                       | Elapsed Time: 0:00:01\n",
      "Epoch 3, step 19 |                                       | Elapsed Time: 0:00:01\n",
      "Epoch 4, step 19 |                                       | Elapsed Time: 0:00:01\n",
      "Epoch 5, step 19 |                                       | Elapsed Time: 0:00:01\n",
      "Epoch 6, step 19 |                                       | Elapsed Time: 0:00:01\n",
      "Epoch 7, step 19 |                                       | Elapsed Time: 0:00:01\n",
      "Epoch 8, step 19 |                                       | Elapsed Time: 0:00:01\n",
      "Epoch 9, step 19 |                                       | Elapsed Time: 0:00:01\n",
      "INFO:deepthought.experiments:processing fold 6.4: {'train': [0, 1, 2, 3], 'valid': [4]}\n"
     ]
    },
    {
     "name": "stdout",
     "output_type": "stream",
     "text": [
      "#train: 18048 #valid: 5664\n"
     ]
    },
    {
     "name": "stderr",
     "output_type": "stream",
     "text": [
      "Epoch 0, step 19 |                                       | Elapsed Time: 0:00:01\n",
      "Epoch 1, step 19 |                                       | Elapsed Time: 0:00:01\n",
      "Epoch 2, step 19 |                                       | Elapsed Time: 0:00:01\n",
      "Epoch 3, step 19 |                                       | Elapsed Time: 0:00:01\n",
      "Epoch 4, step 19 |                                       | Elapsed Time: 0:00:01\n",
      "Epoch 5, step 19 |                                       | Elapsed Time: 0:00:01\n",
      "Epoch 6, step 19 |                                       | Elapsed Time: 0:00:01\n",
      "Epoch 7, step 19 |                                       | Elapsed Time: 0:00:01\n",
      "Epoch 8, step 19 |                                       | Elapsed Time: 0:00:01\n",
      "Epoch 9, step 19 |                                       | Elapsed Time: 0:00:01\n"
     ]
    },
    {
     "name": "stdout",
     "output_type": "stream",
     "text": [
      "fold errors: [  6.7713  14.5174  12.4742   4.7475  12.1492]\n",
      "fold_scores for c=0.0100: [ 0.1354  0.1771  0.1042  0.125   0.1771] mean=0.1438\n",
      "fold_scores for c=0.0500: [ 0.1354  0.1771  0.1042  0.125   0.1771] mean=0.1438\n",
      "fold_scores for c=0.1000: [ 0.1354  0.1771  0.1042  0.125   0.1771] mean=0.1438\n",
      "fold_scores for c=0.0050: [ 0.1354  0.1771  0.1042  0.125   0.1771] mean=0.1438\n",
      "fold_scores for c=0.0010: [ 0.1354  0.1771  0.1042  0.125   0.1771] mean=0.1438\n",
      "fold_scores for c=0.0005: [ 0.1354  0.1771  0.1042  0.125   0.1771] mean=0.1438\n",
      "fold_scores for c=0.0001: [ 0.1354  0.1771  0.1042  0.125   0.1771] mean=0.1438\n",
      "fold_scores for c=0.5000: [ 0.1354  0.1771  0.1042  0.125   0.1771] mean=0.1438\n",
      "fold_scores for c=1.0000: [ 0.1354  0.1771  0.1042  0.125   0.1771] mean=0.1438\n",
      "fold_scores for c=2.0000: [ 0.1354  0.1771  0.1042  0.125   0.1771] mean=0.1438\n",
      "best c=0.01 with score 0.14375\n"
     ]
    },
    {
     "name": "stderr",
     "output_type": "stream",
     "text": [
      "INFO:deepthought.experiments:processing fold 7.0: {'train': [1, 2, 3, 4], 'valid': [0]}\n"
     ]
    },
    {
     "name": "stdout",
     "output_type": "stream",
     "text": [
      "linear_svc results for fold {'train': ['P01', 'P04', 'P06', 'P07', 'P09', 'P11', 'P13', 'P14'], 'valid': ['P12']}\n",
      "             precision    recall  f1-score   support\n",
      "\n",
      "          0       0.20      0.20      0.20         5\n",
      "          1       0.33      0.20      0.25         5\n",
      "          2       0.11      0.40      0.17         5\n",
      "          3       0.00      0.00      0.00         5\n",
      "          4       0.25      0.20      0.22         5\n",
      "          5       0.00      0.00      0.00         5\n",
      "          6       0.22      0.40      0.29         5\n",
      "          7       0.00      0.00      0.00         5\n",
      "          8       0.17      0.20      0.18         5\n",
      "          9       0.00      0.00      0.00         5\n",
      "         10       0.00      0.00      0.00         5\n",
      "         11       0.00      0.00      0.00         5\n",
      "\n",
      "avg / total       0.11      0.13      0.11        60\n",
      "\n",
      "[[1 0 1 0 1 1 0 0 1 0 0 0]\n",
      " [0 1 2 0 0 0 0 0 1 1 0 0]\n",
      " [0 0 2 0 1 0 1 0 0 0 0 1]\n",
      " [1 0 0 0 0 0 1 1 1 1 0 0]\n",
      " [0 0 2 0 1 0 0 1 0 1 0 0]\n",
      " [1 1 0 0 0 0 1 0 0 0 2 0]\n",
      " [0 0 3 0 0 0 2 0 0 0 0 0]\n",
      " [1 0 1 0 0 0 0 0 1 2 0 0]\n",
      " [0 0 0 0 0 1 2 0 1 1 0 0]\n",
      " [0 0 4 0 0 0 1 0 0 0 0 0]\n",
      " [1 1 3 0 0 0 0 0 0 0 0 0]\n",
      " [0 0 0 0 1 1 1 0 1 0 1 0]]\n",
      "overall test accuracy so far: 0.12619047619\n",
      "processing outer fold {'train': ['P01', 'P04', 'P06', 'P07', 'P09', 'P11', 'P12', 'P14'], 'valid': ['P13']}\n",
      "#train: 18048 #valid: 5664\n"
     ]
    },
    {
     "name": "stderr",
     "output_type": "stream",
     "text": [
      "Epoch 0, step 19 |                                       | Elapsed Time: 0:00:01\n",
      "Epoch 1, step 19 |                                       | Elapsed Time: 0:00:01\n",
      "Epoch 2, step 19 |                                       | Elapsed Time: 0:00:01\n",
      "Epoch 3, step 19 |                                       | Elapsed Time: 0:00:01\n",
      "Epoch 4, step 19 |                                       | Elapsed Time: 0:00:01\n",
      "Epoch 5, step 19 |                                       | Elapsed Time: 0:00:01\n",
      "Epoch 6, step 19 |                                       | Elapsed Time: 0:00:01\n",
      "Epoch 7, step 19 |                                       | Elapsed Time: 0:00:01\n",
      "Epoch 8, step 19 |                                       | Elapsed Time: 0:00:01\n",
      "Epoch 9, step 19 |                                       | Elapsed Time: 0:00:01\n",
      "INFO:deepthought.experiments:processing fold 7.1: {'train': [0, 2, 3, 4], 'valid': [1]}\n"
     ]
    },
    {
     "name": "stdout",
     "output_type": "stream",
     "text": [
      "#train: 18048 #valid: 5664\n"
     ]
    },
    {
     "name": "stderr",
     "output_type": "stream",
     "text": [
      "Epoch 0, step 19 |                                       | Elapsed Time: 0:00:01\n",
      "Epoch 1, step 19 |                                       | Elapsed Time: 0:00:01\n",
      "Epoch 2, step 19 |                                       | Elapsed Time: 0:00:01\n",
      "Epoch 3, step 19 |                                       | Elapsed Time: 0:00:01\n",
      "Epoch 4, step 19 |                                       | Elapsed Time: 0:00:01\n",
      "Epoch 5, step 19 |                                       | Elapsed Time: 0:00:01\n",
      "Epoch 6, step 19 |                                       | Elapsed Time: 0:00:01\n",
      "Epoch 7, step 19 |                                       | Elapsed Time: 0:00:01\n",
      "Epoch 8, step 19 |                                       | Elapsed Time: 0:00:01\n",
      "Epoch 9, step 19 |                                       | Elapsed Time: 0:00:01\n",
      "INFO:deepthought.experiments:processing fold 7.2: {'train': [0, 1, 3, 4], 'valid': [2]}\n"
     ]
    },
    {
     "name": "stdout",
     "output_type": "stream",
     "text": [
      "#train: 18048 #valid: 5664\n"
     ]
    },
    {
     "name": "stderr",
     "output_type": "stream",
     "text": [
      "Epoch 0, step 19 |                                       | Elapsed Time: 0:00:01\n",
      "Epoch 1, step 19 |                                       | Elapsed Time: 0:00:01\n",
      "Epoch 2, step 19 |                                       | Elapsed Time: 0:00:01\n",
      "Epoch 3, step 19 |                                       | Elapsed Time: 0:00:01\n",
      "Epoch 4, step 19 |                                       | Elapsed Time: 0:00:01\n",
      "Epoch 5, step 19 |                                       | Elapsed Time: 0:00:01\n",
      "Epoch 6, step 19 |                                       | Elapsed Time: 0:00:01\n",
      "Epoch 7, step 19 |                                       | Elapsed Time: 0:00:01\n",
      "Epoch 8, step 19 |                                       | Elapsed Time: 0:00:01\n",
      "Epoch 9, step 19 |                                       | Elapsed Time: 0:00:01\n",
      "INFO:deepthought.experiments:processing fold 7.3: {'train': [0, 1, 2, 4], 'valid': [3]}\n"
     ]
    },
    {
     "name": "stdout",
     "output_type": "stream",
     "text": [
      "#train: 18048 #valid: 5664\n"
     ]
    },
    {
     "name": "stderr",
     "output_type": "stream",
     "text": [
      "Epoch 0, step 19 |                                       | Elapsed Time: 0:00:01\n",
      "Epoch 1, step 19 |                                       | Elapsed Time: 0:00:01\n",
      "Epoch 2, step 19 |                                       | Elapsed Time: 0:00:01\n",
      "Epoch 3, step 19 |                                       | Elapsed Time: 0:00:01\n",
      "Epoch 4, step 19 |                                       | Elapsed Time: 0:00:01\n",
      "Epoch 5, step 19 |                                       | Elapsed Time: 0:00:01\n",
      "Epoch 6, step 19 |                                       | Elapsed Time: 0:00:01\n",
      "Epoch 7, step 19 |                                       | Elapsed Time: 0:00:01\n",
      "Epoch 8, step 19 |                                       | Elapsed Time: 0:00:01\n",
      "Epoch 9, step 19 |                                       | Elapsed Time: 0:00:01\n",
      "INFO:deepthought.experiments:processing fold 7.4: {'train': [0, 1, 2, 3], 'valid': [4]}\n"
     ]
    },
    {
     "name": "stdout",
     "output_type": "stream",
     "text": [
      "#train: 18048 #valid: 5664\n"
     ]
    },
    {
     "name": "stderr",
     "output_type": "stream",
     "text": [
      "Epoch 0, step 19 |                                       | Elapsed Time: 0:00:01\n",
      "Epoch 1, step 19 |                                       | Elapsed Time: 0:00:01\n",
      "Epoch 2, step 19 |                                       | Elapsed Time: 0:00:01\n",
      "Epoch 3, step 19 |                                       | Elapsed Time: 0:00:01\n",
      "Epoch 4, step 19 |                                       | Elapsed Time: 0:00:01\n",
      "Epoch 5, step 19 |                                       | Elapsed Time: 0:00:01\n",
      "Epoch 6, step 19 |                                       | Elapsed Time: 0:00:01\n",
      "Epoch 7, step 19 |                                       | Elapsed Time: 0:00:01\n",
      "Epoch 8, step 19 |                                       | Elapsed Time: 0:00:01\n",
      "Epoch 9, step 19 |                                       | Elapsed Time: 0:00:01\n"
     ]
    },
    {
     "name": "stdout",
     "output_type": "stream",
     "text": [
      "fold errors: [  4.7503  20.5675  11.3371   7.0695   9.2126]\n",
      "fold_scores for c=0.0100: [ 0.125   0.1042  0.1042  0.1146  0.0938] mean=0.1083\n",
      "fold_scores for c=0.0500: [ 0.125   0.1042  0.1042  0.1146  0.0938] mean=0.1083\n",
      "fold_scores for c=0.1000: [ 0.125   0.1042  0.1042  0.1146  0.0938] mean=0.1083\n",
      "fold_scores for c=0.0050: [ 0.125   0.1042  0.1042  0.1146  0.0938] mean=0.1083\n",
      "fold_scores for c=0.0010: [ 0.125   0.1042  0.1042  0.1146  0.0938] mean=0.1083\n",
      "fold_scores for c=0.0005: [ 0.125   0.1042  0.1042  0.1146  0.0938] mean=0.1083\n",
      "fold_scores for c=0.0001: [ 0.125   0.1042  0.1042  0.1146  0.0938] mean=0.1083\n",
      "fold_scores for c=0.5000: [ 0.125   0.1042  0.1042  0.1146  0.0938] mean=0.1083\n",
      "fold_scores for c=1.0000: [ 0.125   0.1042  0.1042  0.1146  0.0938] mean=0.1083\n",
      "fold_scores for c=2.0000: [ 0.125   0.1042  0.1042  0.1146  0.0938] mean=0.1083\n",
      "best c=0.01 with score 0.108333333333\n"
     ]
    },
    {
     "name": "stderr",
     "output_type": "stream",
     "text": [
      "INFO:deepthought.experiments:processing fold 8.0: {'train': [1, 2, 3, 4], 'valid': [0]}\n"
     ]
    },
    {
     "name": "stdout",
     "output_type": "stream",
     "text": [
      "linear_svc results for fold {'train': ['P01', 'P04', 'P06', 'P07', 'P09', 'P11', 'P12', 'P14'], 'valid': ['P13']}\n",
      "             precision    recall  f1-score   support\n",
      "\n",
      "          0       0.00      0.00      0.00         5\n",
      "          1       0.20      0.20      0.20         5\n",
      "          2       0.00      0.00      0.00         5\n",
      "          3       0.00      0.00      0.00         5\n",
      "          4       0.17      0.20      0.18         5\n",
      "          5       0.00      0.00      0.00         5\n",
      "          6       0.20      0.20      0.20         5\n",
      "          7       0.25      0.20      0.22         5\n",
      "          8       0.00      0.00      0.00         5\n",
      "          9       0.00      0.00      0.00         5\n",
      "         10       0.00      0.00      0.00         5\n",
      "         11       0.00      0.00      0.00         5\n",
      "\n",
      "avg / total       0.07      0.07      0.07        60\n",
      "\n",
      "[[0 1 2 0 0 0 0 0 1 0 0 1]\n",
      " [0 1 0 1 2 0 0 0 0 0 0 1]\n",
      " [0 0 0 0 1 0 0 0 0 2 1 1]\n",
      " [0 1 0 0 0 2 1 0 0 1 0 0]\n",
      " [0 0 1 0 1 0 0 1 0 0 1 1]\n",
      " [1 0 1 0 0 0 0 0 1 1 0 1]\n",
      " [0 0 0 0 0 1 1 0 1 1 0 1]\n",
      " [0 1 1 0 0 1 0 1 0 1 0 0]\n",
      " [0 1 1 0 0 0 1 1 0 0 0 1]\n",
      " [0 0 0 0 2 0 1 0 0 0 1 1]\n",
      " [0 0 2 0 0 1 1 0 0 1 0 0]\n",
      " [0 0 1 0 0 1 0 1 0 1 1 0]]\n",
      "overall test accuracy so far: 0.11875\n",
      "processing outer fold {'train': ['P01', 'P04', 'P06', 'P07', 'P09', 'P11', 'P12', 'P13'], 'valid': ['P14']}\n",
      "#train: 18048 #valid: 5664\n"
     ]
    },
    {
     "name": "stderr",
     "output_type": "stream",
     "text": [
      "Epoch 0, step 19 |                                       | Elapsed Time: 0:00:01\n",
      "Epoch 1, step 19 |                                       | Elapsed Time: 0:00:01\n",
      "Epoch 2, step 19 |                                       | Elapsed Time: 0:00:01\n",
      "Epoch 3, step 19 |                                       | Elapsed Time: 0:00:01\n",
      "Epoch 4, step 19 |                                       | Elapsed Time: 0:00:01\n",
      "Epoch 5, step 19 |                                       | Elapsed Time: 0:00:01\n",
      "Epoch 6, step 19 |                                       | Elapsed Time: 0:00:01\n",
      "Epoch 7, step 19 |                                       | Elapsed Time: 0:00:01\n",
      "Epoch 8, step 19 |                                       | Elapsed Time: 0:00:01\n",
      "Epoch 9, step 19 |                                       | Elapsed Time: 0:00:01\n",
      "INFO:deepthought.experiments:processing fold 8.1: {'train': [0, 2, 3, 4], 'valid': [1]}\n"
     ]
    },
    {
     "name": "stdout",
     "output_type": "stream",
     "text": [
      "#train: 18048 #valid: 5664\n"
     ]
    },
    {
     "name": "stderr",
     "output_type": "stream",
     "text": [
      "Epoch 0, step 19 |                                       | Elapsed Time: 0:00:01\n",
      "Epoch 1, step 19 |                                       | Elapsed Time: 0:00:01\n",
      "Epoch 2, step 19 |                                       | Elapsed Time: 0:00:01\n",
      "Epoch 3, step 19 |                                       | Elapsed Time: 0:00:01\n",
      "Epoch 4, step 19 |                                       | Elapsed Time: 0:00:01\n",
      "Epoch 5, step 19 |                                       | Elapsed Time: 0:00:01\n",
      "Epoch 6, step 19 |                                       | Elapsed Time: 0:00:01\n",
      "Epoch 7, step 19 |                                       | Elapsed Time: 0:00:01\n",
      "Epoch 8, step 19 |                                       | Elapsed Time: 0:00:01\n",
      "Epoch 9, step 19 |                                       | Elapsed Time: 0:00:01\n",
      "INFO:deepthought.experiments:processing fold 8.2: {'train': [0, 1, 3, 4], 'valid': [2]}\n"
     ]
    },
    {
     "name": "stdout",
     "output_type": "stream",
     "text": [
      "#train: 18048 #valid: 5664\n"
     ]
    },
    {
     "name": "stderr",
     "output_type": "stream",
     "text": [
      "Epoch 0, step 19 |                                       | Elapsed Time: 0:00:01\n",
      "Epoch 1, step 19 |                                       | Elapsed Time: 0:00:01\n",
      "Epoch 2, step 19 |                                       | Elapsed Time: 0:00:01\n",
      "Epoch 3, step 19 |                                       | Elapsed Time: 0:00:01\n",
      "Epoch 4, step 19 |                                       | Elapsed Time: 0:00:01\n",
      "Epoch 5, step 19 |                                       | Elapsed Time: 0:00:01\n",
      "Epoch 6, step 19 |                                       | Elapsed Time: 0:00:01\n",
      "Epoch 7, step 19 |                                       | Elapsed Time: 0:00:01\n",
      "Epoch 8, step 19 |                                       | Elapsed Time: 0:00:01\n",
      "Epoch 9, step 19 |                                       | Elapsed Time: 0:00:01\n",
      "INFO:deepthought.experiments:processing fold 8.3: {'train': [0, 1, 2, 4], 'valid': [3]}\n"
     ]
    },
    {
     "name": "stdout",
     "output_type": "stream",
     "text": [
      "#train: 18048 #valid: 5664\n"
     ]
    },
    {
     "name": "stderr",
     "output_type": "stream",
     "text": [
      "Epoch 0, step 19 |                                       | Elapsed Time: 0:00:01\n",
      "Epoch 1, step 19 |                                       | Elapsed Time: 0:00:01\n",
      "Epoch 2, step 19 |                                       | Elapsed Time: 0:00:01\n",
      "Epoch 3, step 19 |                                       | Elapsed Time: 0:00:01\n",
      "Epoch 4, step 19 |                                       | Elapsed Time: 0:00:01\n",
      "Epoch 5, step 19 |                                       | Elapsed Time: 0:00:01\n",
      "Epoch 6, step 19 |                                       | Elapsed Time: 0:00:01\n",
      "Epoch 7, step 19 |                                       | Elapsed Time: 0:00:01\n",
      "Epoch 8, step 19 |                                       | Elapsed Time: 0:00:01\n",
      "Epoch 9, step 19 |                                       | Elapsed Time: 0:00:01\n",
      "INFO:deepthought.experiments:processing fold 8.4: {'train': [0, 1, 2, 3], 'valid': [4]}\n"
     ]
    },
    {
     "name": "stdout",
     "output_type": "stream",
     "text": [
      "#train: 18048 #valid: 5664\n"
     ]
    },
    {
     "name": "stderr",
     "output_type": "stream",
     "text": [
      "Epoch 0, step 19 |                                       | Elapsed Time: 0:00:01\n",
      "Epoch 1, step 19 |                                       | Elapsed Time: 0:00:01\n",
      "Epoch 2, step 19 |                                       | Elapsed Time: 0:00:01\n",
      "Epoch 3, step 19 |                                       | Elapsed Time: 0:00:01\n",
      "Epoch 4, step 19 |                                       | Elapsed Time: 0:00:01\n",
      "Epoch 5, step 19 |                                       | Elapsed Time: 0:00:01\n",
      "Epoch 6, step 19 |                                       | Elapsed Time: 0:00:01\n",
      "Epoch 7, step 19 |                                       | Elapsed Time: 0:00:01\n",
      "Epoch 8, step 19 |                                       | Elapsed Time: 0:00:01\n",
      "Epoch 9, step 19 |                                       | Elapsed Time: 0:00:01\n"
     ]
    },
    {
     "name": "stdout",
     "output_type": "stream",
     "text": [
      "fold errors: [  3.7334   5.5989   2.7521   3.0905  12.0679]\n",
      "fold_scores for c=0.0100: [ 0.2188  0.1771  0.1354  0.1458  0.1667] mean=0.1688\n",
      "fold_scores for c=0.0500: [ 0.2188  0.1771  0.1354  0.1458  0.1667] mean=0.1688\n",
      "fold_scores for c=0.1000: [ 0.2188  0.1771  0.1354  0.1458  0.1667] mean=0.1688\n",
      "fold_scores for c=0.0050: [ 0.2188  0.1771  0.1354  0.1458  0.1667] mean=0.1688\n",
      "fold_scores for c=0.0010: [ 0.2188  0.1771  0.1354  0.1458  0.1667] mean=0.1688\n",
      "fold_scores for c=0.0005: [ 0.2188  0.1771  0.1354  0.1458  0.1667] mean=0.1688\n",
      "fold_scores for c=0.0001: [ 0.2188  0.1771  0.1354  0.1458  0.1667] mean=0.1688\n",
      "fold_scores for c=0.5000: [ 0.2188  0.1771  0.1354  0.1458  0.1667] mean=0.1688\n",
      "fold_scores for c=1.0000: [ 0.2188  0.1771  0.1354  0.1458  0.1667] mean=0.1688\n",
      "fold_scores for c=2.0000: [ 0.2188  0.1771  0.1354  0.1458  0.1667] mean=0.1688\n",
      "best c=0.01 with score 0.16875\n",
      "linear_svc results for fold {'train': ['P01', 'P04', 'P06', 'P07', 'P09', 'P11', 'P12', 'P13'], 'valid': ['P14']}\n",
      "             precision    recall  f1-score   support\n",
      "\n",
      "          0       0.25      0.40      0.31         5\n",
      "          1       0.22      0.40      0.29         5\n",
      "          2       0.30      0.60      0.40         5\n",
      "          3       0.00      0.00      0.00         5\n",
      "          4       0.14      0.20      0.17         5\n",
      "          5       0.67      0.40      0.50         5\n",
      "          6       0.00      0.00      0.00         5\n",
      "          7       0.00      0.00      0.00         5\n",
      "          8       0.17      0.20      0.18         5\n",
      "          9       0.00      0.00      0.00         5\n",
      "         10       0.33      0.20      0.25         5\n",
      "         11       0.25      0.20      0.22         5\n",
      "\n",
      "avg / total       0.19      0.22      0.19        60\n",
      "\n",
      "[[2 0 1 0 1 0 0 0 0 0 1 0]\n",
      " [1 2 0 0 0 0 0 1 0 0 0 1]\n",
      " [0 0 3 0 0 1 0 1 0 0 0 0]\n",
      " [0 1 0 0 1 0 1 0 0 0 1 1]\n",
      " [0 0 3 0 1 0 1 0 0 0 0 0]\n",
      " [1 2 0 0 0 2 0 0 0 0 0 0]\n",
      " [1 0 0 0 2 0 0 0 2 0 0 0]\n",
      " [1 1 0 1 0 0 1 0 0 0 0 1]\n",
      " [2 0 0 0 0 0 0 0 1 2 0 0]\n",
      " [0 2 0 0 0 0 1 0 2 0 0 0]\n",
      " [0 1 1 0 1 0 0 1 0 0 1 0]\n",
      " [0 0 2 0 1 0 0 0 1 0 0 1]]\n",
      "overall test accuracy so far: 0.12962962963\n",
      "all folds completed\n",
      "\n",
      "SUMMARY for classifier linear_svc\n",
      "\n",
      "fold scores:  [ 0.0667  0.1333  0.15    0.1667  0.1333  0.1     0.1333  0.0667  0.2167]\n",
      "\n",
      "             precision    recall  f1-score   support\n",
      "\n",
      "        0.0       0.21      0.20      0.21        45\n",
      "        1.0       0.22      0.22      0.22        45\n",
      "        2.0       0.11      0.20      0.14        45\n",
      "        3.0       0.05      0.02      0.03        45\n",
      "        4.0       0.07      0.07      0.07        45\n",
      "        5.0       0.13      0.11      0.12        45\n",
      "        6.0       0.15      0.18      0.16        45\n",
      "        7.0       0.06      0.04      0.05        45\n",
      "        8.0       0.12      0.13      0.12        45\n",
      "        9.0       0.08      0.07      0.07        45\n",
      "       10.0       0.13      0.18      0.15        45\n",
      "       11.0       0.18      0.13      0.15        45\n",
      "\n",
      "avg / total       0.13      0.13      0.13       540\n",
      "\n",
      "[[ 9  4  8  0  4  3  3  2  6  1  2  3]\n",
      " [ 2 10  3  3  2  4  1  3  5  3  5  4]\n",
      " [ 1  1  9  1  3  3  3  2  2  4 14  2]\n",
      " [ 5  4  2  1  5  2  6  6  3  3  6  2]\n",
      " [ 7  2 13  0  3  5  1  3  3  2  3  3]\n",
      " [ 6  8  6  1  3  5  1  2  5  2  4  2]\n",
      " [ 1  1  7  2  3  3  8  4  6  1  5  4]\n",
      " [ 4  2  6  6  4  3  7  2  3  5  2  1]\n",
      " [ 3  4  4  2  4  2  7  4  6  6  1  2]\n",
      " [ 1  6  9  0  5  1  7  2  4  3  5  2]\n",
      " [ 1  3 14  2  2  4  3  1  2  3  8  2]\n",
      " [ 2  0  4  2  4  3  7  1  7  4  5  6]]\n",
      "\n",
      "train accuracy: 0.489351851852\n",
      "test accuracy : 0.12962962963\n"
     ]
    },
    {
     "data": {
      "text/plain": [
       "[0.87037037037037035]"
      ]
     },
     "execution_count": 5,
     "metadata": {},
     "output_type": "execute_result"
    }
   ],
   "source": [
    "#%debug\n",
    "exp = SiameseEncoderExperiment(job_id, hdf5name, \n",
    "                               #ChordProgNestedCVFoldGenerator(num_inner_folds=num_inner_folds),\n",
    "                               OpenMIIRNestedCVFoldGenerator(),\n",
    "                               SingleConvFilterPipelineFactory(),\n",
    "                               hyper_params=hyper_params, default_params=None,\n",
    "                               base_selectors=base_selectors)\n",
    "\n",
    "exp.run(classifiers=(('linear_svc', train_linear_svc),), verbose=True)"
   ]
  },
  {
   "cell_type": "code",
   "execution_count": null,
   "metadata": {
    "collapsed": false,
    "scrolled": true
   },
   "outputs": [],
   "source": [
    "#exp.run(classifiers=(('simple_nn', train_simple_nn_cv),))"
   ]
  },
  {
   "cell_type": "code",
   "execution_count": null,
   "metadata": {
    "collapsed": true
   },
   "outputs": [],
   "source": []
  }
 ],
 "metadata": {
  "kernelspec": {
   "display_name": "Python 2",
   "language": "python",
   "name": "python2"
  },
  "language_info": {
   "codemirror_mode": {
    "name": "ipython",
    "version": 2
   },
   "file_extension": ".py",
   "mimetype": "text/x-python",
   "name": "python",
   "nbconvert_exporter": "python",
   "pygments_lexer": "ipython2",
   "version": "2.7.6"
  }
 },
 "nbformat": 4,
 "nbformat_minor": 0
}
